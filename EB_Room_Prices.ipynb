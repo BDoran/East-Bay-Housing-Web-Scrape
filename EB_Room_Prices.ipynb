{
 "cells": [
  {
   "cell_type": "markdown",
   "metadata": {},
   "source": [
    "# Webscrape the East Bay for category: Rooms/Shares"
   ]
  },
  {
   "cell_type": "code",
   "execution_count": 2,
   "metadata": {},
   "outputs": [],
   "source": [
    "#import get to call a get request on the site\n",
    "from requests import get"
   ]
  },
  {
   "cell_type": "code",
   "execution_count": 3,
   "metadata": {},
   "outputs": [
    {
     "name": "stdout",
     "output_type": "stream",
     "text": [
      "﻿<!DOCTYPE html>\n",
      "<html class=\"no-js\"><head>\n",
      "    <title>SF bay area rooms &amp; shares  - craigslist</title>\n",
      "\n",
      "    <meta name=\"description\" content=\"SF bay area rooms &amp; shares  - craigslist\">\n",
      "    <meta http-equiv=\"X-UA-Compatible\" content=\"IE=Edge\"/>\n",
      "    <link rel=\"canonical\" href=\"https://sfbay.craigslist.org/search/eby/roo\">\n",
      "    <link rel=\"alternate\" type=\"application/rss+xml\" href=\"https://sfbay.craigslist.org/search/eby/roo?availabilityMode=0&amp;format=rss&amp;hasPic=1\" title=\"RSS feed fo\n"
     ]
    }
   ],
   "source": [
    "#get the first page of the east bay housing prices\n",
    "response = get('https://sfbay.craigslist.org/search/eby/roo?hasPic=1&availabilityMode=0') #get rid of those lame-o's that post a housing option without a pic using their filter\n",
    "\n",
    "print(response.text[:500])"
   ]
  },
  {
   "cell_type": "code",
   "execution_count": 4,
   "metadata": {},
   "outputs": [],
   "source": [
    "from bs4 import BeautifulSoup"
   ]
  },
  {
   "cell_type": "code",
   "execution_count": 5,
   "metadata": {},
   "outputs": [
    {
     "data": {
      "text/plain": [
       "bs4.BeautifulSoup"
      ]
     },
     "execution_count": 5,
     "metadata": {},
     "output_type": "execute_result"
    }
   ],
   "source": [
    "#grab the HTML as a BS4 soup object\n",
    "html_soup = BeautifulSoup(response.text, 'html.parser')\n",
    "type(html_soup)"
   ]
  },
  {
   "cell_type": "code",
   "execution_count": 6,
   "metadata": {},
   "outputs": [
    {
     "name": "stdout",
     "output_type": "stream",
     "text": [
      "<class 'bs4.element.ResultSet'>\n",
      "120\n"
     ]
    }
   ],
   "source": [
    "#get the macro-container for the housing posts\n",
    "posts = html_soup.find_all('li', class_= 'result-row')\n",
    "print(type(posts)) #to double check that I got a ResultSet\n",
    "print(len(posts)) #to double check I got 50 (elements/page)"
   ]
  },
  {
   "cell_type": "code",
   "execution_count": 7,
   "metadata": {},
   "outputs": [
    {
     "data": {
      "text/plain": [
       "<li class=\"result-row\" data-pid=\"6796639965\" data-repost-of=\"6790210620\">\n",
       "<a class=\"result-image gallery\" data-ids=\"1:00P0P_h8oborlgBaG,1:00d0d_kFgYflaAxO6,1:00s0s_fHVk389grOF\" href=\"https://sfbay.craigslist.org/eby/roo/d/concord-roommate-wanted-in-cozy-2bd/6796639965.html\">\n",
       "<span class=\"result-price\">$1000</span>\n",
       "</a>\n",
       "<p class=\"result-info\">\n",
       "<span class=\"icon icon-star\" role=\"button\">\n",
       "<span class=\"screen-reader-text\">favorite this post</span>\n",
       "</span>\n",
       "<time class=\"result-date\" datetime=\"2019-01-21 06:51\" title=\"Mon 21 Jan 06:51:16 AM\">Jan 21</time>\n",
       "<a class=\"result-title hdrlnk\" data-id=\"6796639965\" href=\"https://sfbay.craigslist.org/eby/roo/d/concord-roommate-wanted-in-cozy-2bd/6796639965.html\">Roommate wanted in cozy 2bd/1.5ba townhouse</a>\n",
       "<span class=\"result-meta\">\n",
       "<span class=\"result-price\">$1000</span>\n",
       "<span class=\"housing\">\n",
       "                    973ft<sup>2</sup> -\n",
       "                </span>\n",
       "<span class=\"result-hood\"> (concord / pleasant hill / martinez)</span>\n",
       "<span class=\"result-tags\">\n",
       "                    pic\n",
       "                    <span class=\"maptag\" data-pid=\"6796639965\">map</span>\n",
       "</span>\n",
       "<span class=\"banish icon icon-trash\" role=\"button\">\n",
       "<span class=\"screen-reader-text\">hide this posting</span>\n",
       "</span>\n",
       "<span aria-hidden=\"true\" class=\"unbanish icon icon-trash red\" role=\"button\"></span>\n",
       "<a class=\"restore-link\" href=\"#\">\n",
       "<span class=\"restore-narrow-text\">restore</span>\n",
       "<span class=\"restore-wide-text\">restore this posting</span>\n",
       "</a>\n",
       "</span>\n",
       "</p>\n",
       "</li>"
      ]
     },
     "execution_count": 7,
     "metadata": {},
     "output_type": "execute_result"
    }
   ],
   "source": [
    "#grab the first post\n",
    "post_one = posts[0]\n",
    "post_one"
   ]
  },
  {
   "cell_type": "code",
   "execution_count": 8,
   "metadata": {},
   "outputs": [
    {
     "data": {
      "text/plain": [
       "'\\n$1000\\n'"
      ]
     },
     "execution_count": 8,
     "metadata": {},
     "output_type": "execute_result"
    }
   ],
   "source": [
    "#grab the price of the first post\n",
    "post_one_price = post_one.a.text\n",
    "post_one_price"
   ]
  },
  {
   "cell_type": "code",
   "execution_count": 9,
   "metadata": {},
   "outputs": [
    {
     "data": {
      "text/plain": [
       "'06:51'"
      ]
     },
     "execution_count": 9,
     "metadata": {},
     "output_type": "execute_result"
    }
   ],
   "source": [
    "#grab the time of the post in datetime format to save on cleaning efforts\n",
    "post_one_time = post_one.find('time', class_= 'result-date')\n",
    "post_one_datetime = post_one_time['datetime']\n",
    "\n",
    "#split them and grab each element of the resulting list to get date and time\n",
    "post_one_datetime = post_one_datetime.split(' ')\n",
    "post_one_date = post_one_datetime[0]\n",
    "post_one_date\n",
    "\n",
    "#element 2 is the time\n",
    "post_one_time = post_one_datetime[1]\n",
    "\n",
    "post_one_time"
   ]
  },
  {
   "cell_type": "code",
   "execution_count": 10,
   "metadata": {},
   "outputs": [
    {
     "data": {
      "text/plain": [
       "'https://sfbay.craigslist.org/eby/roo/d/concord-roommate-wanted-in-cozy-2bd/6796639965.html'"
      ]
     },
     "execution_count": 10,
     "metadata": {},
     "output_type": "execute_result"
    }
   ],
   "source": [
    "#title is a and that class, link is grabbing the href attribute of that variable\n",
    "post_one_title = post_one.find('a', class_='result-title hdrlnk')\n",
    "post_one_link = post_one_title['href']\n",
    "post_one_link"
   ]
  },
  {
   "cell_type": "code",
   "execution_count": 11,
   "metadata": {},
   "outputs": [
    {
     "data": {
      "text/plain": [
       "'Roommate wanted in cozy 2bd/1.5ba townhouse'"
      ]
     },
     "execution_count": 11,
     "metadata": {},
     "output_type": "execute_result"
    }
   ],
   "source": [
    "#easy to grab the post title by taking the text element of the title variable\n",
    "post_one_title_text = post_one_title.text\n",
    "post_one_title_text"
   ]
  },
  {
   "cell_type": "code",
   "execution_count": 12,
   "metadata": {},
   "outputs": [
    {
     "data": {
      "text/plain": [
       "' (concord / pleasant hill / martinez)'"
      ]
     },
     "execution_count": 12,
     "metadata": {},
     "output_type": "execute_result"
    }
   ],
   "source": [
    "#the neighborhood is grabbed by finding the span class 'result-hood' and pulling the text element from that\n",
    "post_one_hood = post_one.find('span', class_= 'result-hood').text\n",
    "post_one_hood"
   ]
  },
  {
   "cell_type": "code",
   "execution_count": 13,
   "metadata": {},
   "outputs": [
    {
     "name": "stdout",
     "output_type": "stream",
     "text": [
      "Finished iteration: 1\n",
      "Finished iteration: 2\n",
      "Finished iteration: 3\n",
      "Finished iteration: 4\n",
      "Finished iteration: 5\n",
      "Finished iteration: 6\n",
      "Finished iteration: 7\n",
      "Finished iteration: 8\n",
      "Finished iteration: 9\n",
      "Finished iteration: 10\n",
      "Finished iteration: 11\n",
      "Finished iteration: 12\n",
      "Finished iteration: 13\n"
     ]
    }
   ],
   "source": [
    "#build out the loop\n",
    "from time import sleep\n",
    "from random import randint\n",
    "from warnings import warn\n",
    "from time import time\n",
    "from IPython.core.display import clear_output\n",
    "import numpy as np\n",
    "\n",
    "#find the total number of posts to find the limit of the pagination\n",
    "results_num = html_soup.find('div', class_= 'search-legend')\n",
    "results_total = int(results_num.find('span', class_='totalcount').text)\n",
    "\n",
    "pages = np.arange(0, results_total, 120)\n",
    "\n",
    "iterations = 0\n",
    "\n",
    "post_timing = []\n",
    "post_hoods = []\n",
    "post_title_texts = []\n",
    "post_links = []\n",
    "post_prices = []\n",
    "\n",
    "for page in pages:\n",
    "    \n",
    "    #get request\n",
    "    response = get(\"https://sfbay.craigslist.org/search/eby/roo?\" \n",
    "                   + \"s=\" \n",
    "                   + str(page) \n",
    "                   + \"&hasPic=1\"\n",
    "                   + \"&availabilityMode=0\")\n",
    "\n",
    "    sleep(randint(1,5))\n",
    "     \n",
    "    #throw warning for status codes that are not 200\n",
    "    if response.status_code != 200:\n",
    "        warn('Request: {}; Status code: {}'.format(requests, response.status_code))\n",
    "        \n",
    "    #define the html text\n",
    "    page_html = BeautifulSoup(response.text, 'html.parser')\n",
    "    \n",
    "    #define the posts\n",
    "    posts = html_soup.find_all('li', class_= 'result-row')\n",
    "        \n",
    "    #extract data item-wise\n",
    "    for post in posts:\n",
    "\n",
    "        if post.find('span', class_ = 'result-hood') is not None:\n",
    "\n",
    "            #posting date\n",
    "            #grab the datetime element 0 for date and 1 for time\n",
    "            post_datetime = post.find('time', class_= 'result-date')['datetime']\n",
    "            post_timing.append(post_datetime)\n",
    "\n",
    "            #neighborhoods\n",
    "            post_hood = post.find('span', class_= 'result-hood').text\n",
    "            post_hoods.append(post_hood)\n",
    "\n",
    "            #title text\n",
    "            post_title = post.find('a', class_='result-title hdrlnk')\n",
    "            post_title_text = post_title.text\n",
    "            post_title_texts.append(post_title_text)\n",
    "\n",
    "            #post link\n",
    "            post_link = post_title['href']\n",
    "            post_links.append(post_link)\n",
    "\n",
    "            post_price = post.a.text\n",
    "            post_prices.append(post_price)\n",
    "\n",
    "\n",
    "    iterations += 1\n",
    "    print(\"Finished iteration: \" + str(iterations))"
   ]
  },
  {
   "cell_type": "code",
   "execution_count": 14,
   "metadata": {
    "slideshow": {
     "slide_type": "slide"
    }
   },
   "outputs": [
    {
     "name": "stdout",
     "output_type": "stream",
     "text": [
      "<class 'pandas.core.frame.DataFrame'>\n",
      "RangeIndex: 1560 entries, 0 to 1559\n",
      "Data columns (total 5 columns):\n",
      "posted          1560 non-null object\n",
      "neighborhood    1560 non-null object\n",
      "post title      1560 non-null object\n",
      "URL             1560 non-null object\n",
      "price           1560 non-null object\n",
      "dtypes: object(5)\n",
      "memory usage: 61.0+ KB\n",
      "None\n"
     ]
    },
    {
     "data": {
      "text/html": [
       "<div>\n",
       "<style scoped>\n",
       "    .dataframe tbody tr th:only-of-type {\n",
       "        vertical-align: middle;\n",
       "    }\n",
       "\n",
       "    .dataframe tbody tr th {\n",
       "        vertical-align: top;\n",
       "    }\n",
       "\n",
       "    .dataframe thead th {\n",
       "        text-align: right;\n",
       "    }\n",
       "</style>\n",
       "<table border=\"1\" class=\"dataframe\">\n",
       "  <thead>\n",
       "    <tr style=\"text-align: right;\">\n",
       "      <th></th>\n",
       "      <th>posted</th>\n",
       "      <th>neighborhood</th>\n",
       "      <th>post title</th>\n",
       "      <th>URL</th>\n",
       "      <th>price</th>\n",
       "    </tr>\n",
       "  </thead>\n",
       "  <tbody>\n",
       "    <tr>\n",
       "      <th>1550</th>\n",
       "      <td>2019-01-20 17:03</td>\n",
       "      <td>(fairfield / vacaville)</td>\n",
       "      <td>Quiet and Spacious room for rent in Fairfield ...</td>\n",
       "      <td>https://sfbay.craigslist.org/eby/roo/d/fairfie...</td>\n",
       "      <td>\\n$850\\n</td>\n",
       "    </tr>\n",
       "    <tr>\n",
       "      <th>1551</th>\n",
       "      <td>2019-01-20 17:03</td>\n",
       "      <td>(oakland lake merritt / grand)</td>\n",
       "      <td>Roommate wanted for 2 BR apartment in Clinton</td>\n",
       "      <td>https://sfbay.craigslist.org/eby/roo/d/oakland...</td>\n",
       "      <td>\\n$1150\\n</td>\n",
       "    </tr>\n",
       "    <tr>\n",
       "      <th>1552</th>\n",
       "      <td>2019-01-20 17:03</td>\n",
       "      <td>(hayward / castro valley)</td>\n",
       "      <td>Single room with private bath - walking to Bar...</td>\n",
       "      <td>https://sfbay.craigslist.org/eby/roo/d/hayward...</td>\n",
       "      <td>\\n$1150\\n</td>\n",
       "    </tr>\n",
       "    <tr>\n",
       "      <th>1553</th>\n",
       "      <td>2019-01-20 17:02</td>\n",
       "      <td>(hayward / castro valley)</td>\n",
       "      <td>Single room with private bath - walking to Bar...</td>\n",
       "      <td>https://sfbay.craigslist.org/eby/roo/d/hayward...</td>\n",
       "      <td>\\n$1150\\n</td>\n",
       "    </tr>\n",
       "    <tr>\n",
       "      <th>1554</th>\n",
       "      <td>2019-01-20 17:01</td>\n",
       "      <td>(fremont / union city / newark)</td>\n",
       "      <td>Roommate wanted to share 2BR 1 Bath Apt</td>\n",
       "      <td>https://sfbay.craigslist.org/eby/roo/d/fremont...</td>\n",
       "      <td>\\n$1150\\n</td>\n",
       "    </tr>\n",
       "    <tr>\n",
       "      <th>1555</th>\n",
       "      <td>2019-01-20 16:59</td>\n",
       "      <td>(hercules, pinole, san pablo, el sob)</td>\n",
       "      <td>Fully Furnished Room for Rent</td>\n",
       "      <td>https://sfbay.craigslist.org/eby/roo/d/crocket...</td>\n",
       "      <td>\\n$1000\\n</td>\n",
       "    </tr>\n",
       "    <tr>\n",
       "      <th>1556</th>\n",
       "      <td>2019-01-20 16:56</td>\n",
       "      <td>(hayward / castro valley)</td>\n",
       "      <td>Large Unfurnished Master Suite, all utilities ...</td>\n",
       "      <td>https://sfbay.craigslist.org/eby/roo/d/hayward...</td>\n",
       "      <td>\\n$1400\\n</td>\n",
       "    </tr>\n",
       "    <tr>\n",
       "      <th>1557</th>\n",
       "      <td>2019-01-20 16:55</td>\n",
       "      <td>(fairfield / vacaville)</td>\n",
       "      <td>Room for rent</td>\n",
       "      <td>https://sfbay.craigslist.org/eby/roo/d/fairfie...</td>\n",
       "      <td>\\n$800\\n</td>\n",
       "    </tr>\n",
       "    <tr>\n",
       "      <th>1558</th>\n",
       "      <td>2019-01-20 16:54</td>\n",
       "      <td>(fairfield / vacaville)</td>\n",
       "      <td>Quiet and Spacious room for rent in Fairfield ...</td>\n",
       "      <td>https://sfbay.craigslist.org/eby/roo/d/fairfie...</td>\n",
       "      <td>\\n$850\\n</td>\n",
       "    </tr>\n",
       "    <tr>\n",
       "      <th>1559</th>\n",
       "      <td>2019-01-20 16:50</td>\n",
       "      <td>(hayward / castro valley)</td>\n",
       "      <td>雅房出租 CSUEB Hayward 東灣大學</td>\n",
       "      <td>https://sfbay.craigslist.org/eby/roo/d/csueb-h...</td>\n",
       "      <td>\\n$600\\n</td>\n",
       "    </tr>\n",
       "  </tbody>\n",
       "</table>\n",
       "</div>"
      ],
      "text/plain": [
       "                posted                            neighborhood  \\\n",
       "1550  2019-01-20 17:03                 (fairfield / vacaville)   \n",
       "1551  2019-01-20 17:03          (oakland lake merritt / grand)   \n",
       "1552  2019-01-20 17:03               (hayward / castro valley)   \n",
       "1553  2019-01-20 17:02               (hayward / castro valley)   \n",
       "1554  2019-01-20 17:01         (fremont / union city / newark)   \n",
       "1555  2019-01-20 16:59   (hercules, pinole, san pablo, el sob)   \n",
       "1556  2019-01-20 16:56               (hayward / castro valley)   \n",
       "1557  2019-01-20 16:55                 (fairfield / vacaville)   \n",
       "1558  2019-01-20 16:54                 (fairfield / vacaville)   \n",
       "1559  2019-01-20 16:50               (hayward / castro valley)   \n",
       "\n",
       "                                             post title  \\\n",
       "1550  Quiet and Spacious room for rent in Fairfield ...   \n",
       "1551      Roommate wanted for 2 BR apartment in Clinton   \n",
       "1552  Single room with private bath - walking to Bar...   \n",
       "1553  Single room with private bath - walking to Bar...   \n",
       "1554            Roommate wanted to share 2BR 1 Bath Apt   \n",
       "1555                      Fully Furnished Room for Rent   \n",
       "1556  Large Unfurnished Master Suite, all utilities ...   \n",
       "1557                                      Room for rent   \n",
       "1558  Quiet and Spacious room for rent in Fairfield ...   \n",
       "1559                            雅房出租 CSUEB Hayward 東灣大學   \n",
       "\n",
       "                                                    URL      price  \n",
       "1550  https://sfbay.craigslist.org/eby/roo/d/fairfie...   \\n$850\\n  \n",
       "1551  https://sfbay.craigslist.org/eby/roo/d/oakland...  \\n$1150\\n  \n",
       "1552  https://sfbay.craigslist.org/eby/roo/d/hayward...  \\n$1150\\n  \n",
       "1553  https://sfbay.craigslist.org/eby/roo/d/hayward...  \\n$1150\\n  \n",
       "1554  https://sfbay.craigslist.org/eby/roo/d/fremont...  \\n$1150\\n  \n",
       "1555  https://sfbay.craigslist.org/eby/roo/d/crocket...  \\n$1000\\n  \n",
       "1556  https://sfbay.craigslist.org/eby/roo/d/hayward...  \\n$1400\\n  \n",
       "1557  https://sfbay.craigslist.org/eby/roo/d/fairfie...   \\n$800\\n  \n",
       "1558  https://sfbay.craigslist.org/eby/roo/d/fairfie...   \\n$850\\n  \n",
       "1559  https://sfbay.craigslist.org/eby/roo/d/csueb-h...   \\n$600\\n  "
      ]
     },
     "execution_count": 14,
     "metadata": {},
     "output_type": "execute_result"
    }
   ],
   "source": [
    "import pandas as pd\n",
    "\n",
    "eb_rooms = pd.DataFrame({'posted': post_timing,\n",
    "                       'neighborhood': post_hoods,\n",
    "                       'post title': post_title_texts,\n",
    "                       'URL': post_links,\n",
    "                       'price': post_prices})\n",
    "print(eb_rooms.info())\n",
    "eb_rooms.tail(10)"
   ]
  },
  {
   "cell_type": "markdown",
   "metadata": {},
   "source": [
    "# Data cleaning"
   ]
  },
  {
   "cell_type": "code",
   "execution_count": 15,
   "metadata": {},
   "outputs": [
    {
     "name": "stdout",
     "output_type": "stream",
     "text": [
      "<class 'pandas.core.frame.DataFrame'>\n",
      "RangeIndex: 1560 entries, 0 to 1559\n",
      "Data columns (total 5 columns):\n",
      "posted          1560 non-null datetime64[ns]\n",
      "neighborhood    1560 non-null object\n",
      "post title      1560 non-null object\n",
      "URL             1560 non-null object\n",
      "price           1560 non-null object\n",
      "dtypes: datetime64[ns](1), object(4)\n",
      "memory usage: 61.0+ KB\n"
     ]
    }
   ],
   "source": [
    "#convert datetime string into datetime object to be able to work with it\n",
    "from datetime import datetime\n",
    "\n",
    "eb_rooms['posted'] = pd.to_datetime(eb_rooms['posted'])\n",
    "eb_rooms.info()"
   ]
  },
  {
   "cell_type": "code",
   "execution_count": 16,
   "metadata": {},
   "outputs": [],
   "source": [
    "eb_rooms['price'] = eb_rooms['price'].astype(str)"
   ]
  },
  {
   "cell_type": "code",
   "execution_count": 17,
   "metadata": {},
   "outputs": [],
   "source": [
    "import re\n",
    "\n",
    "eb_rooms['price'] = eb_rooms['price'].apply(lambda x: re.sub(r'[\\n$]+', '', x))\n",
    "\n",
    "#replace '' with NaN values in the df before turning the column to int so data shape is maintained"
   ]
  },
  {
   "cell_type": "code",
   "execution_count": 18,
   "metadata": {},
   "outputs": [],
   "source": [
    "import numpy as np\n",
    "eb_rooms['price'].replace('', np.nan, inplace=True)"
   ]
  },
  {
   "cell_type": "code",
   "execution_count": 19,
   "metadata": {},
   "outputs": [],
   "source": [
    "#drop the NAs, I don't like them and we have a lot of data\n",
    "eb_rooms = eb_rooms.dropna()"
   ]
  },
  {
   "cell_type": "code",
   "execution_count": 20,
   "metadata": {},
   "outputs": [],
   "source": [
    "#first remove the parentheses\n",
    "eb_rooms['neighborhood'] = eb_rooms['neighborhood'].apply(lambda x: re.sub(r'[()]+', '', x))\n",
    "\n",
    "#and the /\n",
    "eb_rooms['neighborhood'] = eb_rooms['neighborhood'].apply(lambda x: re.sub(r'[/]+', '', x))\n",
    "\n",
    "#and commas\n",
    "eb_rooms['neighborhood'] = eb_rooms['neighborhood'].apply(lambda x: re.sub(r'[,]+', '', x)) "
   ]
  },
  {
   "cell_type": "code",
   "execution_count": 21,
   "metadata": {},
   "outputs": [],
   "source": [
    "#people spam craigslist so how many of these are unique?\n",
    "eb_rooms = eb_rooms.drop_duplicates(subset='URL')"
   ]
  },
  {
   "cell_type": "code",
   "execution_count": 22,
   "metadata": {},
   "outputs": [],
   "source": [
    "#now turn the price to int\n",
    "eb_rooms['price'] = eb_rooms['price'].astype(int)"
   ]
  },
  {
   "cell_type": "code",
   "execution_count": 23,
   "metadata": {},
   "outputs": [
    {
     "name": "stdout",
     "output_type": "stream",
     "text": [
      "<class 'pandas.core.frame.DataFrame'>\n",
      "Int64Index: 119 entries, 0 to 119\n",
      "Data columns (total 5 columns):\n",
      "posted          119 non-null datetime64[ns]\n",
      "neighborhood    119 non-null object\n",
      "post title      119 non-null object\n",
      "URL             119 non-null object\n",
      "price           119 non-null int32\n",
      "dtypes: datetime64[ns](1), int32(1), object(3)\n",
      "memory usage: 5.1+ KB\n"
     ]
    }
   ],
   "source": [
    "eb_rooms.info() #finally a quantitative variable!"
   ]
  },
  {
   "cell_type": "code",
   "execution_count": 24,
   "metadata": {},
   "outputs": [],
   "source": [
    "eb_rooms['neighborhood'] = eb_rooms['neighborhood'].apply(lambda x: x.lstrip(' '))"
   ]
  },
  {
   "cell_type": "code",
   "execution_count": 25,
   "metadata": {},
   "outputs": [
    {
     "name": "stderr",
     "output_type": "stream",
     "text": [
      "C:\\Users\\riley\\Anaconda3\\lib\\site-packages\\scipy\\stats\\stats.py:1713: FutureWarning: Using a non-tuple sequence for multidimensional indexing is deprecated; use `arr[tuple(seq)]` instead of `arr[seq]`. In the future this will be interpreted as an array index, `arr[np.array(seq)]`, which will result either in an error or a different result.\n",
      "  return np.add.reduce(sorted[indexer] * weights, axis=axis) / sumval\n"
     ]
    },
    {
     "data": {
      "image/png": "[encoded data removed]",
      "text/plain": [
       "<Figure size 432x288 with 1 Axes>"
      ]
     },
     "metadata": {
      "needs_background": "light"
     },
     "output_type": "display_data"
    }
   ],
   "source": [
    "#start to look at the distributions\n",
    "from matplotlib import figure\n",
    "import matplotlib as plt\n",
    "import seaborn as sns\n",
    "%matplotlib inline\n",
    "\n",
    "#figure(num=None, figsize=(8, 6), dpi=80, facecolor='w', edgecolor='k')\n",
    "sns.distplot(eb_rooms['price']);"
   ]
  },
  {
   "cell_type": "code",
   "execution_count": 31,
   "metadata": {},
   "outputs": [
    {
     "data": {
      "text/html": [
       "<div>\n",
       "<style scoped>\n",
       "    .dataframe tbody tr th:only-of-type {\n",
       "        vertical-align: middle;\n",
       "    }\n",
       "\n",
       "    .dataframe tbody tr th {\n",
       "        vertical-align: top;\n",
       "    }\n",
       "\n",
       "    .dataframe thead th {\n",
       "        text-align: right;\n",
       "    }\n",
       "</style>\n",
       "<table border=\"1\" class=\"dataframe\">\n",
       "  <thead>\n",
       "    <tr style=\"text-align: right;\">\n",
       "      <th></th>\n",
       "      <th>posted</th>\n",
       "      <th>neighborhood</th>\n",
       "      <th>post title</th>\n",
       "      <th>URL</th>\n",
       "      <th>price</th>\n",
       "    </tr>\n",
       "  </thead>\n",
       "  <tbody>\n",
       "    <tr>\n",
       "      <th>5</th>\n",
       "      <td>2019-01-21 05:48:00</td>\n",
       "      <td>berkeley</td>\n",
       "      <td>UCBERKELEY, BART, STORES ALL NEARBY FURNISHED ROOM AVAIL INC UTILITIES</td>\n",
       "      <td>https://sfbay.craigslist.org/eby/roo/d/berkeley-ucberkeley-bart-stores-all/6800066993.html</td>\n",
       "      <td>800</td>\n",
       "    </tr>\n",
       "    <tr>\n",
       "      <th>40</th>\n",
       "      <td>2019-01-20 22:19:00</td>\n",
       "      <td>berkeley</td>\n",
       "      <td>☎ Shared Rooms FOR RENT! ☎ 2500 DANA ST</td>\n",
       "      <td>https://sfbay.craigslist.org/eby/roo/d/berkeley-shared-rooms-for-rent-2500/6785207230.html</td>\n",
       "      <td>850</td>\n",
       "    </tr>\n",
       "    <tr>\n",
       "      <th>68</th>\n",
       "      <td>2019-01-20 20:18:00</td>\n",
       "      <td>berkeley</td>\n",
       "      <td>BEDROOM AVAILABLE AT DUPLEX IN BERKELEY</td>\n",
       "      <td>https://sfbay.craigslist.org/eby/roo/d/berkeley-bedroom-available-at-duplex-in/6792957660.html</td>\n",
       "      <td>900</td>\n",
       "    </tr>\n",
       "    <tr>\n",
       "      <th>105</th>\n",
       "      <td>2019-01-20 17:09:00</td>\n",
       "      <td>berkeley</td>\n",
       "      <td>Converted single bedroom -- sudden move so lower price</td>\n",
       "      <td>https://sfbay.craigslist.org/eby/roo/d/berkeley-converted-single-bedroom/6799879981.html</td>\n",
       "      <td>550</td>\n",
       "    </tr>\n",
       "  </tbody>\n",
       "</table>\n",
       "</div>"
      ],
      "text/plain": [
       "                 posted neighborhood  \\\n",
       "5   2019-01-21 05:48:00     berkeley   \n",
       "40  2019-01-20 22:19:00     berkeley   \n",
       "68  2019-01-20 20:18:00     berkeley   \n",
       "105 2019-01-20 17:09:00     berkeley   \n",
       "\n",
       "                                                                 post title  \\\n",
       "5    UCBERKELEY, BART, STORES ALL NEARBY FURNISHED ROOM AVAIL INC UTILITIES   \n",
       "40                                  ☎ Shared Rooms FOR RENT! ☎ 2500 DANA ST   \n",
       "68                                  BEDROOM AVAILABLE AT DUPLEX IN BERKELEY   \n",
       "105                  Converted single bedroom -- sudden move so lower price   \n",
       "\n",
       "                                                                                                URL  \\\n",
       "5        https://sfbay.craigslist.org/eby/roo/d/berkeley-ucberkeley-bart-stores-all/6800066993.html   \n",
       "40       https://sfbay.craigslist.org/eby/roo/d/berkeley-shared-rooms-for-rent-2500/6785207230.html   \n",
       "68   https://sfbay.craigslist.org/eby/roo/d/berkeley-bedroom-available-at-duplex-in/6792957660.html   \n",
       "105        https://sfbay.craigslist.org/eby/roo/d/berkeley-converted-single-bedroom/6799879981.html   \n",
       "\n",
       "     price  \n",
       "5      800  \n",
       "40     850  \n",
       "68     900  \n",
       "105    550  "
      ]
     },
     "execution_count": 31,
     "metadata": {},
     "output_type": "execute_result"
    }
   ],
   "source": [
    "pd.options.display.max_colwidth = 100\n",
    "cheap_berkeley = eb_rooms[(eb_rooms['price'] < 1000) & (eb_rooms['neighborhood'] == 'berkeley')]\n",
    "cheap_berkeley"
   ]
  }
 ],
 "metadata": {
  "kernelspec": {
   "display_name": "Python 3",
   "language": "python",
   "name": "python3"
  },
  "language_info": {
   "codemirror_mode": {
    "name": "ipython",
    "version": 3
   },
   "file_extension": ".py",
   "mimetype": "text/x-python",
   "name": "python",
   "nbconvert_exporter": "python",
   "pygments_lexer": "ipython3",
   "version": "3.7.0"
  }
 },
 "nbformat": 4,
 "nbformat_minor": 2
}
