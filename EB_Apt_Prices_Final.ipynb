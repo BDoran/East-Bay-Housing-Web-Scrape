{
 "cells": [
  {
   "cell_type": "markdown",
   "metadata": {},
   "source": [
    "# Webscrape the East Bay for category: Rooms/Shares"
   ]
  },
  {
   "cell_type": "code",
   "execution_count": 3,
   "metadata": {},
   "outputs": [
    {
     "name": "stdout",
     "output_type": "stream",
     "text": [
      "<class 'bs4.element.ResultSet'>\n",
      "120\n"
     ]
    }
   ],
   "source": [
    "#import get to call a get request on the site\n",
    "from requests import get\n",
    "\n",
    "#get the first page of the east bay housing prices\n",
    "response = get('https://sfbay.craigslist.org/search/eby/apa?hasPic=1&availabilityMode=0') #get rid of those lame-o's that post a housing option without a pic using their filter\n",
    "\n",
    "from bs4 import BeautifulSoup\n",
    "html_soup = BeautifulSoup(response.text, 'html.parser')\n",
    "\n",
    "#get the macro-container for the housing posts\n",
    "posts = html_soup.find_all('li', class_= 'result-row')\n",
    "print(type(posts)) #to double check that I got a ResultSet\n",
    "print(len(posts)) #to double check I got 120 (elements/page)"
   ]
  },
  {
   "cell_type": "code",
   "execution_count": null,
   "metadata": {},
   "outputs": [],
   "source": [
    "#grab the first post\n",
    "post_one = posts[0]"
   ]
  },
  {
   "cell_type": "code",
   "execution_count": 12,
   "metadata": {},
   "outputs": [
    {
     "data": {
      "text/plain": [
       "'$2200'"
      ]
     },
     "execution_count": 12,
     "metadata": {},
     "output_type": "execute_result"
    }
   ],
   "source": [
    "#grab the price of the first post\n",
    "post_one_price = post_one.a.text\n",
    "post_one_price.strip()"
   ]
  },
  {
   "cell_type": "code",
   "execution_count": 13,
   "metadata": {},
   "outputs": [],
   "source": [
    "#grab the time of the post in datetime format to save on cleaning efforts\n",
    "post_one_time = post_one.find('time', class_= 'result-date')\n",
    "post_one_datetime = post_one_time['datetime']"
   ]
  },
  {
   "cell_type": "code",
   "execution_count": 22,
   "metadata": {},
   "outputs": [],
   "source": [
    "#title is a and that class, link is grabbing the href attribute of that variable\n",
    "post_one_title = post_one.find('a', class_='result-title hdrlnk')\n",
    "post_one_link = post_one_title['href']\n",
    "\n",
    "#easy to grab the post title by taking the text element of the title variable\n",
    "post_one_title_text = post_one_title.text"
   ]
  },
  {
   "cell_type": "code",
   "execution_count": 81,
   "metadata": {},
   "outputs": [
    {
     "data": {
      "text/plain": [
       "['3br', '-']"
      ]
     },
     "execution_count": 81,
     "metadata": {},
     "output_type": "execute_result"
    }
   ],
   "source": [
    "#grabs the whole segment of housing details. We will need missing value handling in the loop as this kind of detail is not common in posts\n",
    "#the text can be split, and we can use indexing to grab the elements we want. number of bedrooms is the first element.\n",
    "#sqft is the third element\n",
    "\n",
    "post_one_num_bedrooms = post_one.find('span', class_ = 'housing').text.split()[0]\n",
    "\n",
    "post_one_sqft = post_one.find('span', class_ = 'housing').text.split()[2][:-3] #cleans the ft2 at the end"
   ]
  },
  {
   "cell_type": "code",
   "execution_count": 241,
   "metadata": {},
   "outputs": [
    {
     "data": {
      "text/plain": [
       "'(North Oakland)'"
      ]
     },
     "execution_count": 241,
     "metadata": {},
     "output_type": "execute_result"
    }
   ],
   "source": [
    "#the neighborhood is grabbed by finding the span class 'result-hood' and pulling the text element from that\n",
    "post_one_hood = posts[0].find('span', class_='result-hood').text\n",
    "\n",
    "import re\n",
    "re.findall(r\"[\\w]+\", testing)[0].title() #this takes only letters, thereby bypassing all the possible delimiters (,, /, -, etc.)\n",
    "\n",
    "\n",
    "#post_hood = posts[100].find('span', class_= 'result-hood').text\n",
    "#post_hood = re.findall(r\"[\\w]+\", posts[100].find('span', class_= 'result-hood').text)[0].title()\n",
    "#post_hood\n",
    "\n",
    "hood = posts[28].find('span', class_= 'result-hood').text.strip().split()[0:2]\n",
    "\n",
    "\" \".join(hood).title()"
   ]
  },
  {
   "cell_type": "code",
   "execution_count": 252,
   "metadata": {},
   "outputs": [
    {
     "name": "stdout",
     "output_type": "stream",
     "text": [
      "Page 1 scraped successfully!\n",
      "Page 2 scraped successfully!\n",
      "Page 3 scraped successfully!\n",
      "Page 4 scraped successfully!\n",
      "Page 5 scraped successfully!\n",
      "Page 6 scraped successfully!\n",
      "Page 7 scraped successfully!\n",
      "Page 8 scraped successfully!\n",
      "Page 9 scraped successfully!\n",
      "Page 10 scraped successfully!\n",
      "Page 11 scraped successfully!\n",
      "Page 12 scraped successfully!\n",
      "Page 13 scraped successfully!\n",
      "Page 14 scraped successfully!\n",
      "Page 15 scraped successfully!\n",
      "Page 16 scraped successfully!\n",
      "Page 17 scraped successfully!\n",
      "Page 18 scraped successfully!\n",
      "Page 19 scraped successfully!\n",
      "Page 20 scraped successfully!\n",
      "Page 21 scraped successfully!\n",
      "Page 22 scraped successfully!\n",
      "Page 23 scraped successfully!\n",
      "Page 24 scraped successfully!\n",
      "Page 25 scraped successfully!\n",
      "Page 26 scraped successfully!\n",
      "\n",
      "\n",
      "Scrape complete!\n"
     ]
    }
   ],
   "source": [
    "#build out the loop\n",
    "from time import sleep\n",
    "import re\n",
    "from random import randint #avoid throttling by not sending too many requests one after the other\n",
    "from warnings import warn\n",
    "from time import time\n",
    "from IPython.core.display import clear_output\n",
    "import numpy as np\n",
    "\n",
    "#find the total number of posts to find the limit of the pagination\n",
    "results_num = html_soup.find('div', class_= 'search-legend')\n",
    "results_total = int(results_num.find('span', class_='totalcount').text) #pulled the total count of posts as the upper bound of the pages array\n",
    "\n",
    "#each page has 119 posts so each new page is defined as follows: s=120, s=240, s=360, and so on. So we need to step in size 120 in the np.arange function\n",
    "pages = np.arange(0, results_total+1, 120)\n",
    "\n",
    "iterations = 0\n",
    "\n",
    "post_timing = []\n",
    "post_hoods = []\n",
    "post_title_texts = []\n",
    "bedroom_counts = []\n",
    "sqfts = []\n",
    "post_links = []\n",
    "post_prices = []\n",
    "\n",
    "for page in pages:\n",
    "    \n",
    "    #get request\n",
    "    response = get(\"https://sfbay.craigslist.org/search/eby/apt?\" \n",
    "                   + \"s=\" #the parameter for defining the page number \n",
    "                   + str(page) #the page number in the pages array from earlier\n",
    "                   + \"&hasPic=1\"\n",
    "                   + \"&availabilityMode=0\")\n",
    "\n",
    "    sleep(randint(1,5))\n",
    "     \n",
    "    #throw warning for status codes that are not 200\n",
    "    if response.status_code != 200:\n",
    "        warn('Request: {}; Status code: {}'.format(requests, response.status_code))\n",
    "        \n",
    "    #define the html text\n",
    "    page_html = BeautifulSoup(response.text, 'html.parser')\n",
    "    \n",
    "    #define the posts\n",
    "    posts = html_soup.find_all('li', class_= 'result-row')\n",
    "        \n",
    "    #extract data item-wise\n",
    "    for post in posts:\n",
    "\n",
    "        if post.find('span', class_ = 'result-hood') is not None:\n",
    "\n",
    "            #posting date\n",
    "            #grab the datetime element 0 for date and 1 for time\n",
    "            post_datetime = post.find('time', class_= 'result-date')['datetime']\n",
    "            post_timing.append(post_datetime)\n",
    "\n",
    "            #neighborhoods\n",
    "            post_hood = post.find('span', class_= 'result-hood').text\n",
    "            post_hoods.append(post_hood)\n",
    "\n",
    "            #title text\n",
    "            post_title = post.find('a', class_='result-title hdrlnk')\n",
    "            post_title_text = post_title.text\n",
    "            post_title_texts.append(post_title_text)\n",
    "\n",
    "            #post link\n",
    "            post_link = post_title['href']\n",
    "            post_links.append(post_link)\n",
    "            \n",
    "            #removes the \\n whitespace from each side, removes the currency symbol, and turns it into an int\n",
    "            post_price = int(post.a.text.strip().replace(\"$\", \"\")) \n",
    "            post_prices.append(post_price)\n",
    "            \n",
    "            if post.find('span', class_ = 'housing') is not None:\n",
    "                \n",
    "                #if the first element is accidentally square footage\n",
    "                if 'ft2' in post.find('span', class_ = 'housing').text.split()[0]:\n",
    "                    \n",
    "                    #make bedroom nan\n",
    "                    bedroom_count = np.nan\n",
    "                    bedroom_counts.append(bedroom_count)\n",
    "                    \n",
    "                    #make sqft the first element\n",
    "                    sqft = int(post.find('span', class_ = 'housing').text.split()[0][:-3])\n",
    "                    sqfts.append(sqft)\n",
    "                    \n",
    "                #if the length of the housing details element is more than 2\n",
    "                elif len(post.find('span', class_ = 'housing').text.split()) > 2:\n",
    "                    \n",
    "                    #therefore element 0 will be bedroom count\n",
    "                    bedroom_count = post.find('span', class_ = 'housing').text.replace(\"br\", \"\").split()[0]\n",
    "                    bedroom_counts.append(bedroom_count)\n",
    "                    \n",
    "                    #and sqft will be number 3, so set these here and append\n",
    "                    sqft = int(post.find('span', class_ = 'housing').text.split()[2][:-3])\n",
    "                    sqfts.append(sqft)\n",
    "                    \n",
    "                #if there is num bedrooms but no sqft\n",
    "                elif len(post.find('span', class_ = 'housing').text.split()) == 2:\n",
    "                    \n",
    "                    #therefore element 0 will be bedroom count\n",
    "                    bedroom_count = post.find('span', class_ = 'housing').text.replace(\"br\", \"\").split()[0]\n",
    "                    bedroom_counts.append(bedroom_count)\n",
    "                    \n",
    "                    #and sqft will be number 3, so set these here and append\n",
    "                    sqft = np.nan\n",
    "                    sqfts.append(sqft)                    \n",
    "                \n",
    "                else:\n",
    "                    bedroom_count = np.nan\n",
    "                    bedroom_counts.append(bedroom_count)\n",
    "                \n",
    "                    sqft = np.nan\n",
    "                    sqfts.append(sqft)\n",
    "                \n",
    "            #if none of those conditions catch, make bedroom nan, this won't be needed    \n",
    "            else:\n",
    "                bedroom_count = np.nan\n",
    "                bedroom_counts.append(bedroom_count)\n",
    "                \n",
    "                sqft = np.nan\n",
    "                sqfts.append(sqft)\n",
    "            #    bedroom_counts.append(bedroom_count)\n",
    "                \n",
    "            #    sqft = np.nan\n",
    "            #    sqfts.append(sqft)\n",
    "                \n",
    "    iterations += 1\n",
    "    print(\"Page \" + str(iterations) + \" scraped successfully!\")\n",
    "\n",
    "print(\"\\n\")\n",
    "\n",
    "print(\"Scrape complete!\")"
   ]
  },
  {
   "cell_type": "code",
   "execution_count": 294,
   "metadata": {
    "slideshow": {
     "slide_type": "slide"
    }
   },
   "outputs": [
    {
     "name": "stdout",
     "output_type": "stream",
     "text": [
      "<class 'pandas.core.frame.DataFrame'>\n",
      "RangeIndex: 3120 entries, 0 to 3119\n",
      "Data columns (total 7 columns):\n",
      "posted             3120 non-null object\n",
      "neighborhood       3120 non-null object\n",
      "post title         3120 non-null object\n",
      "number bedrooms    2704 non-null object\n",
      "sqft               2418 non-null float64\n",
      "URL                3120 non-null object\n",
      "price              3120 non-null int64\n",
      "dtypes: float64(1), int64(1), object(5)\n",
      "memory usage: 170.7+ KB\n",
      "None\n"
     ]
    },
    {
     "data": {
      "text/html": [
       "<div>\n",
       "<style scoped>\n",
       "    .dataframe tbody tr th:only-of-type {\n",
       "        vertical-align: middle;\n",
       "    }\n",
       "\n",
       "    .dataframe tbody tr th {\n",
       "        vertical-align: top;\n",
       "    }\n",
       "\n",
       "    .dataframe thead th {\n",
       "        text-align: right;\n",
       "    }\n",
       "</style>\n",
       "<table border=\"1\" class=\"dataframe\">\n",
       "  <thead>\n",
       "    <tr style=\"text-align: right;\">\n",
       "      <th></th>\n",
       "      <th>posted</th>\n",
       "      <th>neighborhood</th>\n",
       "      <th>post title</th>\n",
       "      <th>number bedrooms</th>\n",
       "      <th>sqft</th>\n",
       "      <th>URL</th>\n",
       "      <th>price</th>\n",
       "    </tr>\n",
       "  </thead>\n",
       "  <tbody>\n",
       "    <tr>\n",
       "      <th>0</th>\n",
       "      <td>2019-02-03 15:55</td>\n",
       "      <td>(dublin / pleasanton / livermore)</td>\n",
       "      <td>Park like Setting! Top floor location. Tour an...</td>\n",
       "      <td>3</td>\n",
       "      <td>996.0</td>\n",
       "      <td>https://sfbay.craigslist.org/eby/apa/d/livermo...</td>\n",
       "      <td>2865</td>\n",
       "    </tr>\n",
       "    <tr>\n",
       "      <th>1</th>\n",
       "      <td>2019-02-03 15:54</td>\n",
       "      <td>(North Oakland)</td>\n",
       "      <td>\"FULLY REMODELED\" Large Studio, 1 Bath, 5plex</td>\n",
       "      <td>NaN</td>\n",
       "      <td>NaN</td>\n",
       "      <td>https://sfbay.craigslist.org/eby/apa/d/emeryvi...</td>\n",
       "      <td>1695</td>\n",
       "    </tr>\n",
       "    <tr>\n",
       "      <th>2</th>\n",
       "      <td>2019-02-03 15:53</td>\n",
       "      <td>(hayward / castro valley)</td>\n",
       "      <td>Single family, modern 4BR/4BA</td>\n",
       "      <td>4</td>\n",
       "      <td>2000.0</td>\n",
       "      <td>https://sfbay.craigslist.org/eby/apa/d/hayward...</td>\n",
       "      <td>4250</td>\n",
       "    </tr>\n",
       "    <tr>\n",
       "      <th>3</th>\n",
       "      <td>2019-02-03 15:51</td>\n",
       "      <td>(dublin / pleasanton / livermore)</td>\n",
       "      <td>Large One bedroom with a garage! 24 hour gym! ...</td>\n",
       "      <td>1</td>\n",
       "      <td>705.0</td>\n",
       "      <td>https://sfbay.craigslist.org/eby/apa/d/dublin-...</td>\n",
       "      <td>2459</td>\n",
       "    </tr>\n",
       "    <tr>\n",
       "      <th>4</th>\n",
       "      <td>2019-02-03 15:51</td>\n",
       "      <td>(dublin / pleasanton / livermore)</td>\n",
       "      <td>Looking To Move Today? 1 Month Free!  Come And...</td>\n",
       "      <td>1</td>\n",
       "      <td>754.0</td>\n",
       "      <td>https://sfbay.craigslist.org/eby/apa/d/pleasan...</td>\n",
       "      <td>2500</td>\n",
       "    </tr>\n",
       "    <tr>\n",
       "      <th>5</th>\n",
       "      <td>2019-02-03 15:49</td>\n",
       "      <td>(Downtown Oakland)</td>\n",
       "      <td>\"FULLY REMODELED\" 2 Bdrm, 1 Bath + Living Room...</td>\n",
       "      <td>2</td>\n",
       "      <td>NaN</td>\n",
       "      <td>https://sfbay.craigslist.org/eby/apa/d/oakland...</td>\n",
       "      <td>2195</td>\n",
       "    </tr>\n",
       "    <tr>\n",
       "      <th>6</th>\n",
       "      <td>2019-02-03 15:48</td>\n",
       "      <td>(North Oakland)</td>\n",
       "      <td>\"FULLY REMODELED\" 4 Bdrm, 2 Bath + Living Room...</td>\n",
       "      <td>4</td>\n",
       "      <td>NaN</td>\n",
       "      <td>https://sfbay.craigslist.org/eby/apa/d/emeryvi...</td>\n",
       "      <td>3595</td>\n",
       "    </tr>\n",
       "    <tr>\n",
       "      <th>7</th>\n",
       "      <td>2019-02-03 15:48</td>\n",
       "      <td>(fremont / union city / newark)</td>\n",
       "      <td>Immidate Move in Lg 1b1b W/ in unit W/D @sofif...</td>\n",
       "      <td>1</td>\n",
       "      <td>710.0</td>\n",
       "      <td>https://sfbay.craigslist.org/eby/apa/d/fremont...</td>\n",
       "      <td>2292</td>\n",
       "    </tr>\n",
       "    <tr>\n",
       "      <th>8</th>\n",
       "      <td>2019-02-03 15:48</td>\n",
       "      <td>(hayward / castro valley)</td>\n",
       "      <td>Elegant &amp; Pet Friendly 2x2, with Stainless App...</td>\n",
       "      <td>2</td>\n",
       "      <td>1012.0</td>\n",
       "      <td>https://sfbay.craigslist.org/eby/apa/d/hayward...</td>\n",
       "      <td>2698</td>\n",
       "    </tr>\n",
       "    <tr>\n",
       "      <th>9</th>\n",
       "      <td>2019-02-03 15:48</td>\n",
       "      <td>(North Oakland)</td>\n",
       "      <td>\"FULLY REMODELED\" 2 Bdrm, 1 Bath, Duplex</td>\n",
       "      <td>2</td>\n",
       "      <td>NaN</td>\n",
       "      <td>https://sfbay.craigslist.org/eby/apa/d/emeryvi...</td>\n",
       "      <td>2395</td>\n",
       "    </tr>\n",
       "  </tbody>\n",
       "</table>\n",
       "</div>"
      ],
      "text/plain": [
       "             posted                        neighborhood  \\\n",
       "0  2019-02-03 15:55   (dublin / pleasanton / livermore)   \n",
       "1  2019-02-03 15:54                     (North Oakland)   \n",
       "2  2019-02-03 15:53           (hayward / castro valley)   \n",
       "3  2019-02-03 15:51   (dublin / pleasanton / livermore)   \n",
       "4  2019-02-03 15:51   (dublin / pleasanton / livermore)   \n",
       "5  2019-02-03 15:49                  (Downtown Oakland)   \n",
       "6  2019-02-03 15:48                     (North Oakland)   \n",
       "7  2019-02-03 15:48     (fremont / union city / newark)   \n",
       "8  2019-02-03 15:48           (hayward / castro valley)   \n",
       "9  2019-02-03 15:48                     (North Oakland)   \n",
       "\n",
       "                                          post title number bedrooms    sqft  \\\n",
       "0  Park like Setting! Top floor location. Tour an...               3   996.0   \n",
       "1      \"FULLY REMODELED\" Large Studio, 1 Bath, 5plex             NaN     NaN   \n",
       "2                      Single family, modern 4BR/4BA               4  2000.0   \n",
       "3  Large One bedroom with a garage! 24 hour gym! ...               1   705.0   \n",
       "4  Looking To Move Today? 1 Month Free!  Come And...               1   754.0   \n",
       "5  \"FULLY REMODELED\" 2 Bdrm, 1 Bath + Living Room...               2     NaN   \n",
       "6  \"FULLY REMODELED\" 4 Bdrm, 2 Bath + Living Room...               4     NaN   \n",
       "7  Immidate Move in Lg 1b1b W/ in unit W/D @sofif...               1   710.0   \n",
       "8  Elegant & Pet Friendly 2x2, with Stainless App...               2  1012.0   \n",
       "9           \"FULLY REMODELED\" 2 Bdrm, 1 Bath, Duplex               2     NaN   \n",
       "\n",
       "                                                 URL  price  \n",
       "0  https://sfbay.craigslist.org/eby/apa/d/livermo...   2865  \n",
       "1  https://sfbay.craigslist.org/eby/apa/d/emeryvi...   1695  \n",
       "2  https://sfbay.craigslist.org/eby/apa/d/hayward...   4250  \n",
       "3  https://sfbay.craigslist.org/eby/apa/d/dublin-...   2459  \n",
       "4  https://sfbay.craigslist.org/eby/apa/d/pleasan...   2500  \n",
       "5  https://sfbay.craigslist.org/eby/apa/d/oakland...   2195  \n",
       "6  https://sfbay.craigslist.org/eby/apa/d/emeryvi...   3595  \n",
       "7  https://sfbay.craigslist.org/eby/apa/d/fremont...   2292  \n",
       "8  https://sfbay.craigslist.org/eby/apa/d/hayward...   2698  \n",
       "9  https://sfbay.craigslist.org/eby/apa/d/emeryvi...   2395  "
      ]
     },
     "execution_count": 294,
     "metadata": {},
     "output_type": "execute_result"
    }
   ],
   "source": [
    "import pandas as pd\n",
    "\n",
    "eb_apts = pd.DataFrame({'posted': post_timing,\n",
    "                       'neighborhood': post_hoods,\n",
    "                       'post title': post_title_texts,\n",
    "                       'number bedrooms': bedroom_counts,\n",
    "                        'sqft': sqfts,\n",
    "                        'URL': post_links,\n",
    "                       'price': post_prices})\n",
    "print(eb_apts.info())\n",
    "eb_apts.head(10)"
   ]
  },
  {
   "cell_type": "markdown",
   "metadata": {},
   "source": [
    "# Data cleaning"
   ]
  },
  {
   "cell_type": "code",
   "execution_count": 304,
   "metadata": {},
   "outputs": [],
   "source": [
    "#first things first, drop duplicate URLs because people are spammy on Craigslist. \n",
    "#Let's see how many uniqe posts we really have.\n",
    "eb_apts = eb_apts.drop_duplicates(subset='URL')\n",
    "len(eb_apts.drop_duplicates(subset='URL'))\n",
    "\n",
    "#make the number bedrooms to a float (since np.nan is a float too)\n",
    "eb_apts['number bedrooms'] = eb_apts['number bedrooms'].apply(lambda x: float(x))\n",
    "\n",
    "#convert datetime string into datetime object to be able to work with it\n",
    "from datetime import datetime\n",
    "\n",
    "eb_apts['posted'] = pd.to_datetime(eb_apts['posted'])\n",
    "\n",
    "#Looking at what neighborhoods there are with eb_apts['neighborhood'].unique() allowed me to see what\n",
    "#I needed to deal with in terms of cleaning those.\n",
    "\n",
    "#remove the parenthesis from the left and right of the neighborhoods\n",
    "eb_apts['neighborhood'] = eb_apts['neighborhood'].map(lambda x: x.lstrip('(').rstrip(')'))\n",
    "\n",
    "#titlecase them\n",
    "eb_apts['neighborhood'] = eb_apts['neighborhood'].str.title()\n",
    "\n",
    "#just take the first name of the neighborhood list, splitting on the '/' delimiter\n",
    "eb_apts['neighborhood'] = eb_apts['neighborhood'].apply(lambda x: x.split('/')[0])\n",
    "\n",
    "#fix one-offs that\n",
    "eb_apts['neighborhood'].replace('Belmont, Ca', 'Belmont', inplace=True)\n",
    "eb_apts['neighborhood'].replace('Hercules, Pinole, San Pablo, El Sob', 'Hercules', inplace=True)\n",
    "\n",
    "#remove whitespaces\n",
    "eb_apts['neighborhood'] = eb_apts['neighborhood'].apply(lambda x: x.strip())\n",
    "\n",
    "#save the clean data\n",
    "eb_apts.to_csv(\"eb_apts_1642_Jan_2_19_clean.csv\", index=False)"
   ]
  },
  {
   "cell_type": "markdown",
   "metadata": {},
   "source": [
    "# Exploratory Data Analysis"
   ]
  },
  {
   "cell_type": "code",
   "execution_count": 329,
   "metadata": {},
   "outputs": [
    {
     "name": "stdout",
     "output_type": "stream",
     "text": [
      "<class 'pandas.core.frame.DataFrame'>\n",
      "Int64Index: 120 entries, 0 to 119\n",
      "Data columns (total 7 columns):\n",
      "posted             120 non-null datetime64[ns]\n",
      "neighborhood       120 non-null object\n",
      "post title         120 non-null object\n",
      "number bedrooms    104 non-null float64\n",
      "sqft               93 non-null float64\n",
      "URL                120 non-null object\n",
      "price              120 non-null int64\n",
      "dtypes: datetime64[ns](1), float64(2), int64(1), object(3)\n",
      "memory usage: 7.5+ KB\n"
     ]
    }
   ],
   "source": [
    "eb_apts.info()"
   ]
  },
  {
   "cell_type": "code",
   "execution_count": 7,
   "metadata": {},
   "outputs": [],
   "source": [
    "import pandas as pd, numpy as np\n",
    "#I think Craigslist blocked me. Reload dataframe via file for now\n",
    "eb_apts = pd.read_csv(\"eb_apts_1642_Jan_2_19_clean.csv\")"
   ]
  },
  {
   "cell_type": "code",
   "execution_count": 8,
   "metadata": {},
   "outputs": [
    {
     "data": {
      "image/png": "[encoded data removed]",
      "text/plain": [
       "<Figure size 720x432 with 1 Axes>"
      ]
     },
     "metadata": {
      "needs_background": "light"
     },
     "output_type": "display_data"
    }
   ],
   "source": [
    "#start to look at the distributions\n",
    "from matplotlib import figure\n",
    "import seaborn as sns\n",
    "import matplotlib.pyplot as plt\n",
    "%matplotlib inline\n",
    "\n",
    "plt.figure(figsize=(10, 6))\n",
    "plt.hist(eb_apts['price'], edgecolor='black');\n",
    "plt.xlabel(\"Price\")\n",
    "plt.ylabel('Count')\n",
    "plt.title(\"Distribution of Prices\");"
   ]
  },
  {
   "cell_type": "code",
   "execution_count": 9,
   "metadata": {},
   "outputs": [
    {
     "data": {
      "image/png": "[encoded data removed]",
      "text/plain": [
       "<Figure size 864x576 with 1 Axes>"
      ]
     },
     "metadata": {
      "needs_background": "light"
     },
     "output_type": "display_data"
    }
   ],
   "source": [
    "import matplotlib.pylab as pylab\n",
    "params = {'legend.fontsize': 'x-large',\n",
    "          'figure.figsize': (15, 5),\n",
    "         'axes.labelsize': 'x-large',\n",
    "         'axes.titlesize':'x-large',\n",
    "         'xtick.labelsize':'x-large',\n",
    "         'ytick.labelsize':'x-large'}\n",
    "pylab.rcParams.update(params)\n",
    "\n",
    "plt.figure(figsize=(12, 8))\n",
    "sns.scatterplot(x='price', y='sqft', hue='number bedrooms', palette='summer', x_jitter=True, y_jitter=True, s=125, data=eb_apts.dropna())\n",
    "plt.legend(fontsize=12)\n",
    "plt.xlabel(\"Price\", fontsize=18)\n",
    "plt.ylabel(\"Square Footage\", fontsize=18);\n",
    "plt.title(\"Price vs. Square Footage Colored by Number of Bedrooms\", fontsize=18);"
   ]
  },
  {
   "cell_type": "code",
   "execution_count": 10,
   "metadata": {},
   "outputs": [
    {
     "name": "stderr",
     "output_type": "stream",
     "text": [
      "C:\\Users\\riley\\Anaconda3\\lib\\site-packages\\scipy\\stats\\stats.py:1713: FutureWarning: Using a non-tuple sequence for multidimensional indexing is deprecated; use `arr[tuple(seq)]` instead of `arr[seq]`. In the future this will be interpreted as an array index, `arr[np.array(seq)]`, which will result either in an error or a different result.\n",
      "  return np.add.reduce(sorted[indexer] * weights, axis=axis) / sumval\n"
     ]
    },
    {
     "data": {
      "image/png": "[encoded data removed]",
      "text/plain": [
       "<Figure size 864x576 with 1 Axes>"
      ]
     },
     "metadata": {
      "needs_background": "light"
     },
     "output_type": "display_data"
    }
   ],
   "source": [
    "plt.figure(figsize=(12, 8))\n",
    "sns.regplot(x='price', y='sqft', data=eb_apts.dropna());\n",
    "plt.title('Price vs. Square Footage Regression Plot');\n",
    "plt.xlabel(\"Price (USD)\");\n",
    "plt.ylabel(\"Square Feet\");"
   ]
  },
  {
   "cell_type": "code",
   "execution_count": 11,
   "metadata": {},
   "outputs": [
    {
     "data": {
      "text/html": [
       "<div>\n",
       "<style scoped>\n",
       "    .dataframe tbody tr th:only-of-type {\n",
       "        vertical-align: middle;\n",
       "    }\n",
       "\n",
       "    .dataframe tbody tr th {\n",
       "        vertical-align: top;\n",
       "    }\n",
       "\n",
       "    .dataframe thead th {\n",
       "        text-align: right;\n",
       "    }\n",
       "</style>\n",
       "<table border=\"1\" class=\"dataframe\">\n",
       "  <thead>\n",
       "    <tr style=\"text-align: right;\">\n",
       "      <th></th>\n",
       "      <th>number bedrooms</th>\n",
       "      <th>sqft</th>\n",
       "      <th>price</th>\n",
       "    </tr>\n",
       "  </thead>\n",
       "  <tbody>\n",
       "    <tr>\n",
       "      <th>number bedrooms</th>\n",
       "      <td>1.000000</td>\n",
       "      <td>0.849161</td>\n",
       "      <td>0.552040</td>\n",
       "    </tr>\n",
       "    <tr>\n",
       "      <th>sqft</th>\n",
       "      <td>0.849161</td>\n",
       "      <td>1.000000</td>\n",
       "      <td>0.472154</td>\n",
       "    </tr>\n",
       "    <tr>\n",
       "      <th>price</th>\n",
       "      <td>0.552040</td>\n",
       "      <td>0.472154</td>\n",
       "      <td>1.000000</td>\n",
       "    </tr>\n",
       "  </tbody>\n",
       "</table>\n",
       "</div>"
      ],
      "text/plain": [
       "                 number bedrooms      sqft     price\n",
       "number bedrooms         1.000000  0.849161  0.552040\n",
       "sqft                    0.849161  1.000000  0.472154\n",
       "price                   0.552040  0.472154  1.000000"
      ]
     },
     "execution_count": 11,
     "metadata": {},
     "output_type": "execute_result"
    }
   ],
   "source": [
    "eb_apts.corr()"
   ]
  },
  {
   "cell_type": "code",
   "execution_count": 12,
   "metadata": {},
   "outputs": [
    {
     "data": {
      "text/html": [
       "<div>\n",
       "<style scoped>\n",
       "    .dataframe tbody tr th:only-of-type {\n",
       "        vertical-align: middle;\n",
       "    }\n",
       "\n",
       "    .dataframe tbody tr th {\n",
       "        vertical-align: top;\n",
       "    }\n",
       "\n",
       "    .dataframe thead th {\n",
       "        text-align: right;\n",
       "    }\n",
       "</style>\n",
       "<table border=\"1\" class=\"dataframe\">\n",
       "  <thead>\n",
       "    <tr style=\"text-align: right;\">\n",
       "      <th></th>\n",
       "      <th>posted</th>\n",
       "      <th>neighborhood</th>\n",
       "      <th>post title</th>\n",
       "      <th>number bedrooms</th>\n",
       "      <th>sqft</th>\n",
       "      <th>URL</th>\n",
       "      <th>price</th>\n",
       "    </tr>\n",
       "  </thead>\n",
       "  <tbody>\n",
       "  </tbody>\n",
       "</table>\n",
       "</div>"
      ],
      "text/plain": [
       "Empty DataFrame\n",
       "Columns: [posted, neighborhood, post title, number bedrooms, sqft, URL, price]\n",
       "Index: []"
      ]
     },
     "execution_count": 12,
     "metadata": {},
     "output_type": "execute_result"
    }
   ],
   "source": [
    "pd.options.display.max_colwidth = 100 #display full URL\n",
    "cheap_berkeley = eb_apts[(eb_apts['price'] < 3000) & (eb_apts['neighborhood'] == 'berkeley') |\n",
    "                         (eb_apts['neighborhood'] == 'oakland piedmont  montclair') |\n",
    "                         (eb_apts['neighborhood'] == 'berkeley north hills')]\n",
    "cheap_berkeley.sort_values(by='price', ascending=True)"
   ]
  },
  {
   "cell_type": "code",
   "execution_count": 13,
   "metadata": {},
   "outputs": [
    {
     "data": {
      "text/html": [
       "<div>\n",
       "<style scoped>\n",
       "    .dataframe tbody tr th:only-of-type {\n",
       "        vertical-align: middle;\n",
       "    }\n",
       "\n",
       "    .dataframe tbody tr th {\n",
       "        vertical-align: top;\n",
       "    }\n",
       "\n",
       "    .dataframe thead th {\n",
       "        text-align: right;\n",
       "    }\n",
       "</style>\n",
       "<table border=\"1\" class=\"dataframe\">\n",
       "  <thead>\n",
       "    <tr style=\"text-align: right;\">\n",
       "      <th></th>\n",
       "      <th>number bedrooms</th>\n",
       "      <th>sqft</th>\n",
       "      <th>price</th>\n",
       "    </tr>\n",
       "    <tr>\n",
       "      <th>neighborhood</th>\n",
       "      <th></th>\n",
       "      <th></th>\n",
       "      <th></th>\n",
       "    </tr>\n",
       "  </thead>\n",
       "  <tbody>\n",
       "    <tr>\n",
       "      <th>Alameda</th>\n",
       "      <td>2.333333</td>\n",
       "      <td>970.000000</td>\n",
       "      <td>2811.250000</td>\n",
       "    </tr>\n",
       "    <tr>\n",
       "      <th>Belmont</th>\n",
       "      <td>NaN</td>\n",
       "      <td>1830.000000</td>\n",
       "      <td>1000.000000</td>\n",
       "    </tr>\n",
       "    <tr>\n",
       "      <th>Berkeley</th>\n",
       "      <td>1.857143</td>\n",
       "      <td>690.428571</td>\n",
       "      <td>2943.222222</td>\n",
       "    </tr>\n",
       "    <tr>\n",
       "      <th>Berkeley North</th>\n",
       "      <td>1.000000</td>\n",
       "      <td>800.000000</td>\n",
       "      <td>2800.000000</td>\n",
       "    </tr>\n",
       "    <tr>\n",
       "      <th>Concord</th>\n",
       "      <td>2.166667</td>\n",
       "      <td>914.000000</td>\n",
       "      <td>2320.571429</td>\n",
       "    </tr>\n",
       "    <tr>\n",
       "      <th>Danville</th>\n",
       "      <td>1.333333</td>\n",
       "      <td>798.333333</td>\n",
       "      <td>2285.000000</td>\n",
       "    </tr>\n",
       "    <tr>\n",
       "      <th>Downtown Oakland</th>\n",
       "      <td>1.666667</td>\n",
       "      <td>NaN</td>\n",
       "      <td>1746.666667</td>\n",
       "    </tr>\n",
       "    <tr>\n",
       "      <th>Dublin</th>\n",
       "      <td>1.733333</td>\n",
       "      <td>947.466667</td>\n",
       "      <td>2642.200000</td>\n",
       "    </tr>\n",
       "    <tr>\n",
       "      <th>East Oakland</th>\n",
       "      <td>2.000000</td>\n",
       "      <td>NaN</td>\n",
       "      <td>2195.000000</td>\n",
       "    </tr>\n",
       "    <tr>\n",
       "      <th>Emeryville</th>\n",
       "      <td>2.333333</td>\n",
       "      <td>1100.500000</td>\n",
       "      <td>3248.333333</td>\n",
       "    </tr>\n",
       "    <tr>\n",
       "      <th>Fairfield</th>\n",
       "      <td>2.000000</td>\n",
       "      <td>1019.000000</td>\n",
       "      <td>2078.000000</td>\n",
       "    </tr>\n",
       "    <tr>\n",
       "      <th>Fremont</th>\n",
       "      <td>1.500000</td>\n",
       "      <td>964.333333</td>\n",
       "      <td>2824.000000</td>\n",
       "    </tr>\n",
       "    <tr>\n",
       "      <th>Hayward</th>\n",
       "      <td>2.200000</td>\n",
       "      <td>1123.125000</td>\n",
       "      <td>2641.266667</td>\n",
       "    </tr>\n",
       "    <tr>\n",
       "      <th>Hercules</th>\n",
       "      <td>1.500000</td>\n",
       "      <td>1108.000000</td>\n",
       "      <td>1651.500000</td>\n",
       "    </tr>\n",
       "    <tr>\n",
       "      <th>North Oakland</th>\n",
       "      <td>3.000000</td>\n",
       "      <td>NaN</td>\n",
       "      <td>2561.666667</td>\n",
       "    </tr>\n",
       "    <tr>\n",
       "      <th>Oakland Downtown</th>\n",
       "      <td>1.333333</td>\n",
       "      <td>600.666667</td>\n",
       "      <td>2313.333333</td>\n",
       "    </tr>\n",
       "    <tr>\n",
       "      <th>Oakland Hills</th>\n",
       "      <td>NaN</td>\n",
       "      <td>550.000000</td>\n",
       "      <td>2300.000000</td>\n",
       "    </tr>\n",
       "    <tr>\n",
       "      <th>Oakland Lake Merritt</th>\n",
       "      <td>1.428571</td>\n",
       "      <td>728.142857</td>\n",
       "      <td>2659.285714</td>\n",
       "    </tr>\n",
       "    <tr>\n",
       "      <th>Oakland North</th>\n",
       "      <td>1.500000</td>\n",
       "      <td>685.333333</td>\n",
       "      <td>2691.666667</td>\n",
       "    </tr>\n",
       "    <tr>\n",
       "      <th>Oakland Rockridge</th>\n",
       "      <td>1.500000</td>\n",
       "      <td>850.000000</td>\n",
       "      <td>3150.000000</td>\n",
       "    </tr>\n",
       "    <tr>\n",
       "      <th>Pittsburg</th>\n",
       "      <td>NaN</td>\n",
       "      <td>NaN</td>\n",
       "      <td>950.000000</td>\n",
       "    </tr>\n",
       "    <tr>\n",
       "      <th>Richmond</th>\n",
       "      <td>2.000000</td>\n",
       "      <td>970.000000</td>\n",
       "      <td>2497.000000</td>\n",
       "    </tr>\n",
       "    <tr>\n",
       "      <th>San Leandro</th>\n",
       "      <td>2.666667</td>\n",
       "      <td>NaN</td>\n",
       "      <td>2733.333333</td>\n",
       "    </tr>\n",
       "    <tr>\n",
       "      <th>Vallejo</th>\n",
       "      <td>1.666667</td>\n",
       "      <td>819.333333</td>\n",
       "      <td>1991.333333</td>\n",
       "    </tr>\n",
       "    <tr>\n",
       "      <th>Walnut Creek</th>\n",
       "      <td>1.000000</td>\n",
       "      <td>705.333333</td>\n",
       "      <td>2481.333333</td>\n",
       "    </tr>\n",
       "    <tr>\n",
       "      <th>West Oakland</th>\n",
       "      <td>3.333333</td>\n",
       "      <td>NaN</td>\n",
       "      <td>2795.000000</td>\n",
       "    </tr>\n",
       "  </tbody>\n",
       "</table>\n",
       "</div>"
      ],
      "text/plain": [
       "                      number bedrooms         sqft        price\n",
       "neighborhood                                                   \n",
       "Alameda                      2.333333   970.000000  2811.250000\n",
       "Belmont                           NaN  1830.000000  1000.000000\n",
       "Berkeley                     1.857143   690.428571  2943.222222\n",
       "Berkeley North               1.000000   800.000000  2800.000000\n",
       "Concord                      2.166667   914.000000  2320.571429\n",
       "Danville                     1.333333   798.333333  2285.000000\n",
       "Downtown Oakland             1.666667          NaN  1746.666667\n",
       "Dublin                       1.733333   947.466667  2642.200000\n",
       "East Oakland                 2.000000          NaN  2195.000000\n",
       "Emeryville                   2.333333  1100.500000  3248.333333\n",
       "Fairfield                    2.000000  1019.000000  2078.000000\n",
       "Fremont                      1.500000   964.333333  2824.000000\n",
       "Hayward                      2.200000  1123.125000  2641.266667\n",
       "Hercules                     1.500000  1108.000000  1651.500000\n",
       "North Oakland                3.000000          NaN  2561.666667\n",
       "Oakland Downtown             1.333333   600.666667  2313.333333\n",
       "Oakland Hills                     NaN   550.000000  2300.000000\n",
       "Oakland Lake Merritt         1.428571   728.142857  2659.285714\n",
       "Oakland North                1.500000   685.333333  2691.666667\n",
       "Oakland Rockridge            1.500000   850.000000  3150.000000\n",
       "Pittsburg                         NaN          NaN   950.000000\n",
       "Richmond                     2.000000   970.000000  2497.000000\n",
       "San Leandro                  2.666667          NaN  2733.333333\n",
       "Vallejo                      1.666667   819.333333  1991.333333\n",
       "Walnut Creek                 1.000000   705.333333  2481.333333\n",
       "West Oakland                 3.333333          NaN  2795.000000"
      ]
     },
     "execution_count": 13,
     "metadata": {},
     "output_type": "execute_result"
    }
   ],
   "source": [
    "#group by neighborhood\n",
    "eb_apts.groupby('neighborhood').mean()"
   ]
  },
  {
   "cell_type": "code",
   "execution_count": 14,
   "metadata": {},
   "outputs": [
    {
     "data": {
      "text/plain": [
       "neighborhood\n",
       "Pittsburg                950.000000\n",
       "Belmont                 1000.000000\n",
       "Hercules                1651.500000\n",
       "Downtown Oakland        1746.666667\n",
       "Vallejo                 1991.333333\n",
       "Fairfield               2078.000000\n",
       "East Oakland            2195.000000\n",
       "Danville                2285.000000\n",
       "Oakland Hills           2300.000000\n",
       "Oakland Downtown        2313.333333\n",
       "Concord                 2320.571429\n",
       "Walnut Creek            2481.333333\n",
       "Richmond                2497.000000\n",
       "North Oakland           2561.666667\n",
       "Hayward                 2641.266667\n",
       "Dublin                  2642.200000\n",
       "Oakland Lake Merritt    2659.285714\n",
       "Oakland North           2691.666667\n",
       "San Leandro             2733.333333\n",
       "West Oakland            2795.000000\n",
       "Berkeley North          2800.000000\n",
       "Alameda                 2811.250000\n",
       "Fremont                 2824.000000\n",
       "Berkeley                2943.222222\n",
       "Oakland Rockridge       3150.000000\n",
       "Emeryville              3248.333333\n",
       "Name: price, dtype: float64"
      ]
     },
     "execution_count": 14,
     "metadata": {},
     "output_type": "execute_result"
    }
   ],
   "source": [
    "#sort price to find cheapest\n",
    "eb_apts.groupby('neighborhood').mean()['price'].sort_values()"
   ]
  },
  {
   "cell_type": "code",
   "execution_count": 28,
   "metadata": {},
   "outputs": [
    {
     "data": {
      "image/png": "[encoded data removed]",
      "text/plain": [
       "<Figure size 1080x720 with 1 Axes>"
      ]
     },
     "metadata": {
      "needs_background": "light"
     },
     "output_type": "display_data"
    }
   ],
   "source": [
    "plt.figure(figsize=(15,10))\n",
    "params = {'legend.fontsize': 'x-large',\n",
    "          'figure.figsize': (15, 5),\n",
    "         'axes.labelsize': 'x-large',\n",
    "         'axes.titlesize':'x-large',\n",
    "         'xtick.labelsize':'x-large',\n",
    "         'ytick.labelsize':'x-large'}\n",
    "pylab.rcParams.update(params)\n",
    "\n",
    "sns.boxplot(x='neighborhood', y='price', data=eb_apts)\n",
    "plt.xlabel(\"Neighborhood\");\n",
    "plt.xticks(rotation=75)\n",
    "plt.ylabel(\"Price USD\");\n",
    "plt.title(\"Prices by Neighborhood - Boxplots\");"
   ]
  }
 ],
 "metadata": {
  "kernelspec": {
   "display_name": "Python 3",
   "language": "python",
   "name": "python3"
  },
  "language_info": {
   "codemirror_mode": {
    "name": "ipython",
    "version": 3
   },
   "file_extension": ".py",
   "mimetype": "text/x-python",
   "name": "python",
   "nbconvert_exporter": "python",
   "pygments_lexer": "ipython3",
   "version": "3.7.0"
  }
 },
 "nbformat": 4,
 "nbformat_minor": 2
}
