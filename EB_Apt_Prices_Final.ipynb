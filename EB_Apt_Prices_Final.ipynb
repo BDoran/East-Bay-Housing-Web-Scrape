{
 "cells": [
  {
   "cell_type": "markdown",
   "metadata": {},
   "source": [
    "# Webscrape the East Bay for category: Rooms/Shares"
   ]
  },
  {
   "cell_type": "code",
   "execution_count": 1,
   "metadata": {},
   "outputs": [],
   "source": [
    "#import get to call a get request on the site\n",
    "from requests import get"
   ]
  },
  {
   "cell_type": "code",
   "execution_count": 35,
   "metadata": {},
   "outputs": [
    {
     "name": "stdout",
     "output_type": "stream",
     "text": [
      "﻿<!DOCTYPE html>\n",
      "<html class=\"no-js\"><head>\n",
      "    <title>SF bay area apts/housing for rent  - craigslist</title>\n",
      "\n",
      "    <meta name=\"description\" content=\"SF bay area apts/housing for rent  - craigslist\">\n",
      "    <meta http-equiv=\"X-UA-Compatible\" content=\"IE=Edge\"/>\n",
      "    <link rel=\"canonical\" href=\"https://sfbay.craigslist.org/search/eby/apa\">\n",
      "    <link rel=\"alternate\" type=\"application/rss+xml\" href=\"https://sfbay.craigslist.org/search/eby/apa?availabilityMode=0&amp;format=rss&amp;hasPic=1\" title=\"RSS f\n"
     ]
    }
   ],
   "source": [
    "#get the first page of the east bay housing prices\n",
    "response = get('https://sfbay.craigslist.org/search/eby/apa?hasPic=1&availabilityMode=0') #get rid of those lame-o's that post a housing option without a pic using their filter\n",
    "\n",
    "print(response.text[:500])"
   ]
  },
  {
   "cell_type": "code",
   "execution_count": 36,
   "metadata": {},
   "outputs": [],
   "source": [
    "from bs4 import BeautifulSoup"
   ]
  },
  {
   "cell_type": "code",
   "execution_count": 37,
   "metadata": {},
   "outputs": [
    {
     "data": {
      "text/plain": [
       "bs4.BeautifulSoup"
      ]
     },
     "execution_count": 37,
     "metadata": {},
     "output_type": "execute_result"
    }
   ],
   "source": [
    "html_soup = BeautifulSoup(response.text, 'html.parser')\n",
    "type(html_soup)"
   ]
  },
  {
   "cell_type": "code",
   "execution_count": 38,
   "metadata": {},
   "outputs": [
    {
     "name": "stdout",
     "output_type": "stream",
     "text": [
      "<class 'bs4.element.ResultSet'>\n",
      "120\n"
     ]
    }
   ],
   "source": [
    "#get the macro-container for the housing posts\n",
    "posts = html_soup.find_all('li', class_= 'result-row')\n",
    "print(type(posts)) #to double check that I got a ResultSet\n",
    "print(len(posts)) #to double check I got 50 (elements/page)"
   ]
  },
  {
   "cell_type": "code",
   "execution_count": 39,
   "metadata": {},
   "outputs": [
    {
     "data": {
      "text/plain": [
       "<li class=\"result-row\" data-pid=\"6799846476\">\n",
       "<a class=\"result-image gallery\" data-ids=\"1:01111_6DqdhP4jHVN,1:00Q0Q_eHtbgkloOLS,1:00K0K_2F65gowTPuB,1:00D0D_6WVVSJ6dTWz,1:00X0X_7o4gGILsS1n,1:00000_f98eAecBM2p,1:01616_lqQSwpZk1DA,1:00909_juhZKrBPqI6,1:00l0l_d0uSDIu1dMm,1:00C0C_80NR4jAHGVl,1:00101_8Wo3O9MhR88,1:00f0f_7vPQd0H9kM4,1:00W0W_bLWcDbcuB0O,1:00w0w_9eLWmRwCWYq,1:01212_kDQjrtHWB4p\" href=\"https://sfbay.craigslist.org/eby/apa/d/walnut-creek-condo-for-rent/6799846476.html\">\n",
       "<span class=\"result-price\">$2700</span>\n",
       "</a>\n",
       "<p class=\"result-info\">\n",
       "<span class=\"icon icon-star\" role=\"button\">\n",
       "<span class=\"screen-reader-text\">favorite this post</span>\n",
       "</span>\n",
       "<time class=\"result-date\" datetime=\"2019-01-20 16:13\" title=\"Sun 20 Jan 04:13:45 PM\">Jan 20</time>\n",
       "<a class=\"result-title hdrlnk\" data-id=\"6799846476\" href=\"https://sfbay.craigslist.org/eby/apa/d/walnut-creek-condo-for-rent/6799846476.html\">Condo for rent</a>\n",
       "<span class=\"result-meta\">\n",
       "<span class=\"result-price\">$2700</span>\n",
       "<span class=\"housing\">\n",
       "                    2br -\n",
       "                    1300ft<sup>2</sup> -\n",
       "                </span>\n",
       "<span class=\"result-hood\"> (walnut creek)</span>\n",
       "<span class=\"result-tags\">\n",
       "                    pic\n",
       "                    <span class=\"maptag\" data-pid=\"6799846476\">map</span>\n",
       "</span>\n",
       "<span class=\"banish icon icon-trash\" role=\"button\">\n",
       "<span class=\"screen-reader-text\">hide this posting</span>\n",
       "</span>\n",
       "<span aria-hidden=\"true\" class=\"unbanish icon icon-trash red\" role=\"button\"></span>\n",
       "<a class=\"restore-link\" href=\"#\">\n",
       "<span class=\"restore-narrow-text\">restore</span>\n",
       "<span class=\"restore-wide-text\">restore this posting</span>\n",
       "</a>\n",
       "</span>\n",
       "</p>\n",
       "</li>"
      ]
     },
     "execution_count": 39,
     "metadata": {},
     "output_type": "execute_result"
    }
   ],
   "source": [
    "#grab the first post\n",
    "post_one = posts[0]\n",
    "post_one"
   ]
  },
  {
   "cell_type": "code",
   "execution_count": 40,
   "metadata": {},
   "outputs": [
    {
     "data": {
      "text/plain": [
       "'\\n$2700\\n'"
      ]
     },
     "execution_count": 40,
     "metadata": {},
     "output_type": "execute_result"
    }
   ],
   "source": [
    "#grab the price of the first post\n",
    "post_one_price = post_one.a.text\n",
    "post_one_price"
   ]
  },
  {
   "cell_type": "code",
   "execution_count": 41,
   "metadata": {},
   "outputs": [
    {
     "data": {
      "text/plain": [
       "'16:13'"
      ]
     },
     "execution_count": 41,
     "metadata": {},
     "output_type": "execute_result"
    }
   ],
   "source": [
    "#grab the time of the post in datetime format to save on cleaning efforts\n",
    "post_one_time = post_one.find('time', class_= 'result-date')\n",
    "post_one_datetime = post_one_time['datetime']\n",
    "\n",
    "#split them and grab each element of the resulting list to get date and time\n",
    "post_one_datetime = post_one_datetime.split(' ')\n",
    "post_one_date = post_one_datetime[0]\n",
    "post_one_date\n",
    "\n",
    "#element 2 is the time\n",
    "post_one_time = post_one_datetime[1]\n",
    "\n",
    "post_one_time"
   ]
  },
  {
   "cell_type": "code",
   "execution_count": 42,
   "metadata": {},
   "outputs": [
    {
     "data": {
      "text/plain": [
       "'https://sfbay.craigslist.org/eby/apa/d/walnut-creek-condo-for-rent/6799846476.html'"
      ]
     },
     "execution_count": 42,
     "metadata": {},
     "output_type": "execute_result"
    }
   ],
   "source": [
    "#title is a and that class, link is grabbing the href attribute of that variable\n",
    "post_one_title = post_one.find('a', class_='result-title hdrlnk')\n",
    "post_one_link = post_one_title['href']\n",
    "post_one_link"
   ]
  },
  {
   "cell_type": "code",
   "execution_count": 43,
   "metadata": {},
   "outputs": [
    {
     "data": {
      "text/plain": [
       "'Condo for rent'"
      ]
     },
     "execution_count": 43,
     "metadata": {},
     "output_type": "execute_result"
    }
   ],
   "source": [
    "#easy to grab the post title by taking the text element of the title variable\n",
    "post_one_title_text = post_one_title.text\n",
    "post_one_title_text"
   ]
  },
  {
   "cell_type": "code",
   "execution_count": 44,
   "metadata": {},
   "outputs": [
    {
     "data": {
      "text/plain": [
       "' (walnut creek)'"
      ]
     },
     "execution_count": 44,
     "metadata": {},
     "output_type": "execute_result"
    }
   ],
   "source": [
    "#the neighborhood is grabbed by finding the span class 'result-hood' and pulling the text element from that\n",
    "post_one_hood = post_one.find('span', class_= 'result-hood').text\n",
    "post_one_hood"
   ]
  },
  {
   "cell_type": "code",
   "execution_count": 45,
   "metadata": {},
   "outputs": [
    {
     "name": "stdout",
     "output_type": "stream",
     "text": [
      "Finished iteration: 1\n",
      "Finished iteration: 2\n",
      "Finished iteration: 3\n",
      "Finished iteration: 4\n",
      "Finished iteration: 5\n",
      "Finished iteration: 6\n",
      "Finished iteration: 7\n",
      "Finished iteration: 8\n",
      "Finished iteration: 9\n",
      "Finished iteration: 10\n",
      "Finished iteration: 11\n",
      "Finished iteration: 12\n",
      "Finished iteration: 13\n",
      "Finished iteration: 14\n",
      "Finished iteration: 15\n",
      "Finished iteration: 16\n",
      "Finished iteration: 17\n",
      "Finished iteration: 18\n",
      "Finished iteration: 19\n",
      "Finished iteration: 20\n",
      "Finished iteration: 21\n",
      "Finished iteration: 22\n",
      "Finished iteration: 23\n",
      "Finished iteration: 24\n",
      "Finished iteration: 25\n"
     ]
    }
   ],
   "source": [
    "#build out the loop\n",
    "from time import sleep\n",
    "from random import randint\n",
    "from warnings import warn\n",
    "from time import time\n",
    "from IPython.core.display import clear_output\n",
    "import numpy as np\n",
    "\n",
    "#find the total number of posts to find the limit of the pagination\n",
    "results_num = html_soup.find('div', class_= 'search-legend')\n",
    "results_total = int(results_num.find('span', class_='totalcount').text)\n",
    "\n",
    "pages = np.arange(0, results_total, 120)\n",
    "\n",
    "iterations = 0\n",
    "\n",
    "post_timing = []\n",
    "post_hoods = []\n",
    "post_title_texts = []\n",
    "post_links = []\n",
    "post_prices = []\n",
    "\n",
    "for page in pages:\n",
    "    \n",
    "    #get request\n",
    "    response = get(\"https://sfbay.craigslist.org/search/eby/apt?\" \n",
    "                   + \"s=\" \n",
    "                   + str(page) \n",
    "                   + \"&hasPic=1\"\n",
    "                   + \"&availabilityMode=0\")\n",
    "\n",
    "    sleep(randint(1,5))\n",
    "     \n",
    "    #throw warning for status codes that are not 200\n",
    "    if response.status_code != 200:\n",
    "        warn('Request: {}; Status code: {}'.format(requests, response.status_code))\n",
    "        \n",
    "    #define the html text\n",
    "    page_html = BeautifulSoup(response.text, 'html.parser')\n",
    "    \n",
    "    #define the posts\n",
    "    posts = html_soup.find_all('li', class_= 'result-row')\n",
    "        \n",
    "    #extract data item-wise\n",
    "    for post in posts:\n",
    "\n",
    "        if post.find('span', class_ = 'result-hood') is not None:\n",
    "\n",
    "            #posting date\n",
    "            #grab the datetime element 0 for date and 1 for time\n",
    "            post_datetime = post.find('time', class_= 'result-date')['datetime']\n",
    "            post_timing.append(post_datetime)\n",
    "\n",
    "            #neighborhoods\n",
    "            post_hood = post.find('span', class_= 'result-hood').text\n",
    "            post_hoods.append(post_hood)\n",
    "\n",
    "            #title text\n",
    "            post_title = post.find('a', class_='result-title hdrlnk')\n",
    "            post_title_text = post_title.text\n",
    "            post_title_texts.append(post_title_text)\n",
    "\n",
    "            #post link\n",
    "            post_link = post_title['href']\n",
    "            post_links.append(post_link)\n",
    "\n",
    "            post_price = post.a.text\n",
    "            post_prices.append(post_price)\n",
    "\n",
    "\n",
    "    iterations += 1\n",
    "    print(\"Finished iteration: \" + str(iterations))"
   ]
  },
  {
   "cell_type": "code",
   "execution_count": 46,
   "metadata": {
    "slideshow": {
     "slide_type": "slide"
    }
   },
   "outputs": [
    {
     "name": "stdout",
     "output_type": "stream",
     "text": [
      "<class 'pandas.core.frame.DataFrame'>\n",
      "RangeIndex: 3000 entries, 0 to 2999\n",
      "Data columns (total 5 columns):\n",
      "posted          3000 non-null object\n",
      "neighborhood    3000 non-null object\n",
      "post title      3000 non-null object\n",
      "URL             3000 non-null object\n",
      "price           3000 non-null object\n",
      "dtypes: object(5)\n",
      "memory usage: 117.3+ KB\n",
      "None\n"
     ]
    },
    {
     "data": {
      "text/html": [
       "<div>\n",
       "<style scoped>\n",
       "    .dataframe tbody tr th:only-of-type {\n",
       "        vertical-align: middle;\n",
       "    }\n",
       "\n",
       "    .dataframe tbody tr th {\n",
       "        vertical-align: top;\n",
       "    }\n",
       "\n",
       "    .dataframe thead th {\n",
       "        text-align: right;\n",
       "    }\n",
       "</style>\n",
       "<table border=\"1\" class=\"dataframe\">\n",
       "  <thead>\n",
       "    <tr style=\"text-align: right;\">\n",
       "      <th></th>\n",
       "      <th>posted</th>\n",
       "      <th>neighborhood</th>\n",
       "      <th>post title</th>\n",
       "      <th>URL</th>\n",
       "      <th>price</th>\n",
       "    </tr>\n",
       "  </thead>\n",
       "  <tbody>\n",
       "    <tr>\n",
       "      <th>2990</th>\n",
       "      <td>2019-01-20 14:41</td>\n",
       "      <td>(hayward / castro valley)</td>\n",
       "      <td>No other 3 Bedroom 2 Baths With Washer &amp; Dryer Like This One!</td>\n",
       "      <td>https://sfbay.craigslist.org/eby/apa/d/hayward-no-other-3-bedroom-2-baths-with/6799788351.html</td>\n",
       "      <td>\\n$2775\\n</td>\n",
       "    </tr>\n",
       "    <tr>\n",
       "      <th>2991</th>\n",
       "      <td>2019-01-20 14:41</td>\n",
       "      <td>(oakland east)</td>\n",
       "      <td>2 Bedroom Apartment Great Deal!!!</td>\n",
       "      <td>https://sfbay.craigslist.org/eby/apa/d/oakland-2-bedroom-apartment-great-deal/6796513781.html</td>\n",
       "      <td>\\n$2395\\n</td>\n",
       "    </tr>\n",
       "    <tr>\n",
       "      <th>2992</th>\n",
       "      <td>2019-01-20 14:40</td>\n",
       "      <td>(oakland east)</td>\n",
       "      <td>Act Now for $1,000.00 Incentive!!  Stunning Studio</td>\n",
       "      <td>https://sfbay.craigslist.org/eby/apa/d/oakland-act-now-forincentive-stunning/6796505369.html</td>\n",
       "      <td>\\n$1749\\n</td>\n",
       "    </tr>\n",
       "    <tr>\n",
       "      <th>2993</th>\n",
       "      <td>2019-01-20 14:40</td>\n",
       "      <td>(Pittsburg, CA)</td>\n",
       "      <td>Balcony or Patio, Walk In Closet, Granite Countertop</td>\n",
       "      <td>https://sfbay.craigslist.org/eby/apa/d/antioch-balcony-or-patio-walk-in-closet/6793479774.html</td>\n",
       "      <td>\\n$2005\\n</td>\n",
       "    </tr>\n",
       "    <tr>\n",
       "      <th>2994</th>\n",
       "      <td>2019-01-20 14:40</td>\n",
       "      <td>(oakland east)</td>\n",
       "      <td>Affordable Luxury!!  Extremely Beautiful Studio</td>\n",
       "      <td>https://sfbay.craigslist.org/eby/apa/d/oakland-affordable-luxury-extremely/6796504728.html</td>\n",
       "      <td>\\n$1749\\n</td>\n",
       "    </tr>\n",
       "    <tr>\n",
       "      <th>2995</th>\n",
       "      <td>2019-01-20 14:39</td>\n",
       "      <td>(oakland east)</td>\n",
       "      <td>Act Now for $1,000.00 Incentive!!  Beautiful One Bedroom</td>\n",
       "      <td>https://sfbay.craigslist.org/eby/apa/d/oakland-act-now-forincentive-beautiful/6796436699.html</td>\n",
       "      <td>\\n$1749\\n</td>\n",
       "    </tr>\n",
       "    <tr>\n",
       "      <th>2996</th>\n",
       "      <td>2019-01-20 14:38</td>\n",
       "      <td>(oakland east)</td>\n",
       "      <td>ROOM FOR RENT - Masterbedroom and Private Bath</td>\n",
       "      <td>https://sfbay.craigslist.org/eby/apa/d/oakland-room-for-rent-masterbedroom-and/6796435913.html</td>\n",
       "      <td>\\n$1575\\n</td>\n",
       "    </tr>\n",
       "    <tr>\n",
       "      <th>2997</th>\n",
       "      <td>2019-01-20 14:38</td>\n",
       "      <td>(fairfield / vacaville)</td>\n",
       "      <td>Access to pools, spas and gym with our 2 bedroom duplex</td>\n",
       "      <td>https://sfbay.craigslist.org/eby/apa/d/vacaville-access-to-pools-spas-and-gym/6799785752.html</td>\n",
       "      <td>\\n$1990\\n</td>\n",
       "    </tr>\n",
       "    <tr>\n",
       "      <th>2998</th>\n",
       "      <td>2019-01-20 14:37</td>\n",
       "      <td>(san leandro)</td>\n",
       "      <td>NO RAIN THE REST OF THE WEEK!TAKE ADVANTAGE OF THE SKY &amp; COME SAY HI!</td>\n",
       "      <td>https://sfbay.craigslist.org/eby/apa/d/san-leandro-no-rain-the-rest-of-the/6799785535.html</td>\n",
       "      <td>\\n$1985\\n</td>\n",
       "    </tr>\n",
       "    <tr>\n",
       "      <th>2999</th>\n",
       "      <td>2019-01-20 14:37</td>\n",
       "      <td>(oakland east)</td>\n",
       "      <td>Availabe for move in now!! Very Beautiful Spacious Studio</td>\n",
       "      <td>https://sfbay.craigslist.org/eby/apa/d/oakland-availabe-for-move-in-now-very/6796435164.html</td>\n",
       "      <td>\\n$1749\\n</td>\n",
       "    </tr>\n",
       "  </tbody>\n",
       "</table>\n",
       "</div>"
      ],
      "text/plain": [
       "                posted                neighborhood  \\\n",
       "2990  2019-01-20 14:41   (hayward / castro valley)   \n",
       "2991  2019-01-20 14:41              (oakland east)   \n",
       "2992  2019-01-20 14:40              (oakland east)   \n",
       "2993  2019-01-20 14:40             (Pittsburg, CA)   \n",
       "2994  2019-01-20 14:40              (oakland east)   \n",
       "2995  2019-01-20 14:39              (oakland east)   \n",
       "2996  2019-01-20 14:38              (oakland east)   \n",
       "2997  2019-01-20 14:38     (fairfield / vacaville)   \n",
       "2998  2019-01-20 14:37               (san leandro)   \n",
       "2999  2019-01-20 14:37              (oakland east)   \n",
       "\n",
       "                                                                 post title  \\\n",
       "2990          No other 3 Bedroom 2 Baths With Washer & Dryer Like This One!   \n",
       "2991                                      2 Bedroom Apartment Great Deal!!!   \n",
       "2992                     Act Now for $1,000.00 Incentive!!  Stunning Studio   \n",
       "2993                   Balcony or Patio, Walk In Closet, Granite Countertop   \n",
       "2994                        Affordable Luxury!!  Extremely Beautiful Studio   \n",
       "2995               Act Now for $1,000.00 Incentive!!  Beautiful One Bedroom   \n",
       "2996                         ROOM FOR RENT - Masterbedroom and Private Bath   \n",
       "2997                Access to pools, spas and gym with our 2 bedroom duplex   \n",
       "2998  NO RAIN THE REST OF THE WEEK!TAKE ADVANTAGE OF THE SKY & COME SAY HI!   \n",
       "2999              Availabe for move in now!! Very Beautiful Spacious Studio   \n",
       "\n",
       "                                                                                                 URL  \\\n",
       "2990  https://sfbay.craigslist.org/eby/apa/d/hayward-no-other-3-bedroom-2-baths-with/6799788351.html   \n",
       "2991   https://sfbay.craigslist.org/eby/apa/d/oakland-2-bedroom-apartment-great-deal/6796513781.html   \n",
       "2992    https://sfbay.craigslist.org/eby/apa/d/oakland-act-now-forincentive-stunning/6796505369.html   \n",
       "2993  https://sfbay.craigslist.org/eby/apa/d/antioch-balcony-or-patio-walk-in-closet/6793479774.html   \n",
       "2994      https://sfbay.craigslist.org/eby/apa/d/oakland-affordable-luxury-extremely/6796504728.html   \n",
       "2995   https://sfbay.craigslist.org/eby/apa/d/oakland-act-now-forincentive-beautiful/6796436699.html   \n",
       "2996  https://sfbay.craigslist.org/eby/apa/d/oakland-room-for-rent-masterbedroom-and/6796435913.html   \n",
       "2997   https://sfbay.craigslist.org/eby/apa/d/vacaville-access-to-pools-spas-and-gym/6799785752.html   \n",
       "2998      https://sfbay.craigslist.org/eby/apa/d/san-leandro-no-rain-the-rest-of-the/6799785535.html   \n",
       "2999    https://sfbay.craigslist.org/eby/apa/d/oakland-availabe-for-move-in-now-very/6796435164.html   \n",
       "\n",
       "          price  \n",
       "2990  \\n$2775\\n  \n",
       "2991  \\n$2395\\n  \n",
       "2992  \\n$1749\\n  \n",
       "2993  \\n$2005\\n  \n",
       "2994  \\n$1749\\n  \n",
       "2995  \\n$1749\\n  \n",
       "2996  \\n$1575\\n  \n",
       "2997  \\n$1990\\n  \n",
       "2998  \\n$1985\\n  \n",
       "2999  \\n$1749\\n  "
      ]
     },
     "execution_count": 46,
     "metadata": {},
     "output_type": "execute_result"
    }
   ],
   "source": [
    "import pandas as pd\n",
    "\n",
    "eb_apts = pd.DataFrame({'posted': post_timing,\n",
    "                       'neighborhood': post_hoods,\n",
    "                       'post title': post_title_texts,\n",
    "                       'URL': post_links,\n",
    "                       'price': post_prices})\n",
    "print(eb_apts.info())\n",
    "eb_apts.tail(10)"
   ]
  },
  {
   "cell_type": "markdown",
   "metadata": {},
   "source": [
    "# Data cleaning"
   ]
  },
  {
   "cell_type": "code",
   "execution_count": 47,
   "metadata": {},
   "outputs": [
    {
     "name": "stdout",
     "output_type": "stream",
     "text": [
      "<class 'pandas.core.frame.DataFrame'>\n",
      "RangeIndex: 3000 entries, 0 to 2999\n",
      "Data columns (total 5 columns):\n",
      "posted          3000 non-null datetime64[ns]\n",
      "neighborhood    3000 non-null object\n",
      "post title      3000 non-null object\n",
      "URL             3000 non-null object\n",
      "price           3000 non-null object\n",
      "dtypes: datetime64[ns](1), object(4)\n",
      "memory usage: 117.3+ KB\n"
     ]
    }
   ],
   "source": [
    "#convert datetime string into datetime object to be able to work with it\n",
    "from datetime import datetime\n",
    "\n",
    "eb_apts['posted'] = pd.to_datetime(eb_apts['posted'])\n",
    "eb_apts.info()"
   ]
  },
  {
   "cell_type": "code",
   "execution_count": 48,
   "metadata": {},
   "outputs": [],
   "source": [
    "eb_apts['price'] = eb_apts['price'].astype(str)"
   ]
  },
  {
   "cell_type": "code",
   "execution_count": 49,
   "metadata": {},
   "outputs": [],
   "source": [
    "import re\n",
    "\n",
    "eb_apts['price'] = eb_apts['price'].apply(lambda x: re.sub(r'[\\n$]+', '', x))\n",
    "\n",
    "#replace '' with NaN values in the df before turning the column to int so data shape is maintained"
   ]
  },
  {
   "cell_type": "code",
   "execution_count": 50,
   "metadata": {},
   "outputs": [],
   "source": [
    "import numpy as np\n",
    "eb_apts['price'].replace('', np.nan, inplace=True)"
   ]
  },
  {
   "cell_type": "code",
   "execution_count": 51,
   "metadata": {},
   "outputs": [],
   "source": [
    "#drop the NAs, I don't like them and we have a lot of data\n",
    "eb_apts = eb_apts.dropna()"
   ]
  },
  {
   "cell_type": "code",
   "execution_count": 52,
   "metadata": {},
   "outputs": [],
   "source": [
    "#first remove the parentheses\n",
    "eb_apts['neighborhood'] = eb_apts['neighborhood'].apply(lambda x: re.sub(r'[()]+', '', x))\n",
    "\n",
    "#and the /\n",
    "eb_apts['neighborhood'] = eb_apts['neighborhood'].apply(lambda x: re.sub(r'[/]+', '', x))\n",
    "\n",
    "#and commas\n",
    "eb_apts['neighborhood'] = eb_apts['neighborhood'].apply(lambda x: re.sub(r'[,]+', '', x)) "
   ]
  },
  {
   "cell_type": "code",
   "execution_count": 53,
   "metadata": {},
   "outputs": [],
   "source": [
    "#people spam craigslist so how many of these are unique?\n",
    "eb_apts = eb_apts.drop_duplicates(subset='URL')"
   ]
  },
  {
   "cell_type": "code",
   "execution_count": 54,
   "metadata": {},
   "outputs": [],
   "source": [
    "#now turn the price to int\n",
    "eb_apts['price'] = eb_apts['price'].astype(int)"
   ]
  },
  {
   "cell_type": "code",
   "execution_count": 55,
   "metadata": {},
   "outputs": [
    {
     "name": "stdout",
     "output_type": "stream",
     "text": [
      "<class 'pandas.core.frame.DataFrame'>\n",
      "Int64Index: 118 entries, 0 to 119\n",
      "Data columns (total 5 columns):\n",
      "posted          118 non-null datetime64[ns]\n",
      "neighborhood    118 non-null object\n",
      "post title      118 non-null object\n",
      "URL             118 non-null object\n",
      "price           118 non-null int32\n",
      "dtypes: datetime64[ns](1), int32(1), object(3)\n",
      "memory usage: 5.1+ KB\n"
     ]
    }
   ],
   "source": [
    "eb_apts.info() #finally a quantitative variable!"
   ]
  },
  {
   "cell_type": "code",
   "execution_count": 56,
   "metadata": {},
   "outputs": [
    {
     "data": {
      "text/plain": [
       "array([' walnut creek', ' berkeley north  hills',\n",
       "       ' dublin  pleasanton  livermore', ' richmond  point  annex',\n",
       "       ' pittsburg  antioch', ' emeryville',\n",
       "       ' hercules pinole san pablo el sob', ' hayward  castro valley',\n",
       "       ' fairfield  vacaville', ' fremont  union city  newark',\n",
       "       ' brentwood  oakley', ' oakland rockridge  claremont',\n",
       "       ' san leandro', ' danville  san ramon',\n",
       "       ' oakland lake merritt  grand', ' alameda',\n",
       "       ' oakland north  temescal', ' berkeley', ' oakland downtown',\n",
       "       ' lafayette  orinda  moraga', ' concord  pleasant hill  martinez',\n",
       "       ' oakland piedmont  montclair', ' oakland east',\n",
       "       ' 7747 Coral Lane Stockton', ' Pittsburg CA'], dtype=object)"
      ]
     },
     "execution_count": 56,
     "metadata": {},
     "output_type": "execute_result"
    }
   ],
   "source": [
    "eb_apts['neighborhood'].unique()"
   ]
  },
  {
   "cell_type": "code",
   "execution_count": 62,
   "metadata": {},
   "outputs": [],
   "source": [
    "eb_apts['neighborhood'] = eb_apts['neighborhood'].apply(lambda x: x.lstrip(' '))"
   ]
  },
  {
   "cell_type": "code",
   "execution_count": 63,
   "metadata": {},
   "outputs": [
    {
     "name": "stderr",
     "output_type": "stream",
     "text": [
      "C:\\Users\\riley\\Anaconda3\\lib\\site-packages\\scipy\\stats\\stats.py:1713: FutureWarning: Using a non-tuple sequence for multidimensional indexing is deprecated; use `arr[tuple(seq)]` instead of `arr[seq]`. In the future this will be interpreted as an array index, `arr[np.array(seq)]`, which will result either in an error or a different result.\n",
      "  return np.add.reduce(sorted[indexer] * weights, axis=axis) / sumval\n"
     ]
    },
    {
     "data": {
      "image/png": "[encoded data removed]",
      "text/plain": [
       "<Figure size 432x288 with 1 Axes>"
      ]
     },
     "metadata": {
      "needs_background": "light"
     },
     "output_type": "display_data"
    }
   ],
   "source": [
    "#start to look at the distributions\n",
    "from matplotlib import figure\n",
    "import seaborn as sns\n",
    "%matplotlib inline\n",
    "\n",
    "#figure(num=None, figsize=(8, 6), dpi=80, facecolor='w', edgecolor='k')\n",
    "sns.distplot(eb_apts['price']); #the majority of posts unfortunately "
   ]
  },
  {
   "cell_type": "code",
   "execution_count": 69,
   "metadata": {},
   "outputs": [
    {
     "data": {
      "text/html": [
       "<div>\n",
       "<style scoped>\n",
       "    .dataframe tbody tr th:only-of-type {\n",
       "        vertical-align: middle;\n",
       "    }\n",
       "\n",
       "    .dataframe tbody tr th {\n",
       "        vertical-align: top;\n",
       "    }\n",
       "\n",
       "    .dataframe thead th {\n",
       "        text-align: right;\n",
       "    }\n",
       "</style>\n",
       "<table border=\"1\" class=\"dataframe\">\n",
       "  <thead>\n",
       "    <tr style=\"text-align: right;\">\n",
       "      <th></th>\n",
       "      <th>posted</th>\n",
       "      <th>neighborhood</th>\n",
       "      <th>post title</th>\n",
       "      <th>URL</th>\n",
       "      <th>price</th>\n",
       "    </tr>\n",
       "  </thead>\n",
       "  <tbody>\n",
       "    <tr>\n",
       "      <th>79</th>\n",
       "      <td>2019-01-20 15:04:00</td>\n",
       "      <td>oakland piedmont  montclair</td>\n",
       "      <td>Large courtyard view condo in Piedmont neighborhood</td>\n",
       "      <td>https://sfbay.craigslist.org/eby/apa/d/oakland-large-courtyard-view-condo-in/6792866929.html</td>\n",
       "      <td>2500</td>\n",
       "    </tr>\n",
       "    <tr>\n",
       "      <th>26</th>\n",
       "      <td>2019-01-20 15:41:00</td>\n",
       "      <td>berkeley north  hills</td>\n",
       "      <td>Thanks read, welcome move in</td>\n",
       "      <td>https://sfbay.craigslist.org/eby/apa/d/berkeley-thanks-read-welcome-move-in/6799821146.html</td>\n",
       "      <td>2999</td>\n",
       "    </tr>\n",
       "    <tr>\n",
       "      <th>1</th>\n",
       "      <td>2019-01-20 16:10:00</td>\n",
       "      <td>berkeley north  hills</td>\n",
       "      <td>Kensington Home For Rent</td>\n",
       "      <td>https://sfbay.craigslist.org/eby/apa/d/el-cerrito-kensington-home-for-rent/6799844476.html</td>\n",
       "      <td>3250</td>\n",
       "    </tr>\n",
       "  </tbody>\n",
       "</table>\n",
       "</div>"
      ],
      "text/plain": [
       "                posted                 neighborhood  \\\n",
       "79 2019-01-20 15:04:00  oakland piedmont  montclair   \n",
       "26 2019-01-20 15:41:00        berkeley north  hills   \n",
       "1  2019-01-20 16:10:00        berkeley north  hills   \n",
       "\n",
       "                                             post title  \\\n",
       "79  Large courtyard view condo in Piedmont neighborhood   \n",
       "26                         Thanks read, welcome move in   \n",
       "1                              Kensington Home For Rent   \n",
       "\n",
       "                                                                                             URL  \\\n",
       "79  https://sfbay.craigslist.org/eby/apa/d/oakland-large-courtyard-view-condo-in/6792866929.html   \n",
       "26   https://sfbay.craigslist.org/eby/apa/d/berkeley-thanks-read-welcome-move-in/6799821146.html   \n",
       "1     https://sfbay.craigslist.org/eby/apa/d/el-cerrito-kensington-home-for-rent/6799844476.html   \n",
       "\n",
       "    price  \n",
       "79   2500  \n",
       "26   2999  \n",
       "1    3250  "
      ]
     },
     "execution_count": 69,
     "metadata": {},
     "output_type": "execute_result"
    }
   ],
   "source": [
    "pd.options.display.max_colwidth = 100 #display full URL\n",
    "cheap_berkeley = eb_apts[(eb_apts['price'] < 1000) & (eb_apts['neighborhood'] == 'berkeley') |\n",
    "                         (eb_apts['neighborhood'] == 'oakland piedmont  montclair') |\n",
    "                         (eb_apts['neighborhood'] == 'berkeley north  hills')]\n",
    "cheap_berkeley.sort_values(by='price', ascending=True)"
   ]
  }
 ],
 "metadata": {
  "kernelspec": {
   "display_name": "Python 3",
   "language": "python",
   "name": "python3"
  },
  "language_info": {
   "codemirror_mode": {
    "name": "ipython",
    "version": 3
   },
   "file_extension": ".py",
   "mimetype": "text/x-python",
   "name": "python",
   "nbconvert_exporter": "python",
   "pygments_lexer": "ipython3",
   "version": "3.7.0"
  }
 },
 "nbformat": 4,
 "nbformat_minor": 2
}
